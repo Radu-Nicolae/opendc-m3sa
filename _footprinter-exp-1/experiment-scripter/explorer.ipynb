{
 "cells": [
  {
   "cell_type": "code",
   "execution_count": null,
   "id": "initial_id",
   "metadata": {
    "collapsed": true,
    "is_executing": true
   },
   "outputs": [],
   "source": [
    "import os\n",
    "import pandas as pd"
   ]
  },
  {
   "cell_type": "code",
   "outputs": [
    {
     "data": {
      "text/plain": "'/Users/raz/atlarge/opendc-m3sa-pr-branch/experiment-1/experiment-scripter'"
     },
     "execution_count": 2,
     "metadata": {},
     "output_type": "execute_result"
    }
   ],
   "source": [
    "os.getcwd()"
   ],
   "metadata": {
    "collapsed": false,
    "ExecuteTime": {
     "end_time": "2024-10-07T17:18:52.372468Z",
     "start_time": "2024-10-07T17:18:52.369394Z"
    }
   },
   "id": "59986c34e9639327",
   "execution_count": 2
  },
  {
   "cell_type": "code",
   "outputs": [
    {
     "data": {
      "text/plain": "              timestamp  carbon_emission\n0   1970-01-01 00:00:00      2546.725958\n1   1970-01-01 01:00:00      2552.592086\n2   1970-01-01 02:00:00      2356.925711\n3   1970-01-01 03:00:00      2448.637938\n4   1970-01-01 04:00:00      2786.439802\n..                  ...              ...\n164 1970-01-07 20:00:00      2943.646919\n165 1970-01-07 21:00:00      3063.862788\n166 1970-01-07 22:00:00      3114.356164\n167 1970-01-07 23:00:00      3227.505228\n168 1970-01-08 00:00:00       451.616108\n\n[169 rows x 2 columns]",
      "text/html": "<div>\n<style scoped>\n    .dataframe tbody tr th:only-of-type {\n        vertical-align: middle;\n    }\n\n    .dataframe tbody tr th {\n        vertical-align: top;\n    }\n\n    .dataframe thead th {\n        text-align: right;\n    }\n</style>\n<table border=\"1\" class=\"dataframe\">\n  <thead>\n    <tr style=\"text-align: right;\">\n      <th></th>\n      <th>timestamp</th>\n      <th>carbon_emission</th>\n    </tr>\n  </thead>\n  <tbody>\n    <tr>\n      <th>0</th>\n      <td>1970-01-01 00:00:00</td>\n      <td>2546.725958</td>\n    </tr>\n    <tr>\n      <th>1</th>\n      <td>1970-01-01 01:00:00</td>\n      <td>2552.592086</td>\n    </tr>\n    <tr>\n      <th>2</th>\n      <td>1970-01-01 02:00:00</td>\n      <td>2356.925711</td>\n    </tr>\n    <tr>\n      <th>3</th>\n      <td>1970-01-01 03:00:00</td>\n      <td>2448.637938</td>\n    </tr>\n    <tr>\n      <th>4</th>\n      <td>1970-01-01 04:00:00</td>\n      <td>2786.439802</td>\n    </tr>\n    <tr>\n      <th>...</th>\n      <td>...</td>\n      <td>...</td>\n    </tr>\n    <tr>\n      <th>164</th>\n      <td>1970-01-07 20:00:00</td>\n      <td>2943.646919</td>\n    </tr>\n    <tr>\n      <th>165</th>\n      <td>1970-01-07 21:00:00</td>\n      <td>3063.862788</td>\n    </tr>\n    <tr>\n      <th>166</th>\n      <td>1970-01-07 22:00:00</td>\n      <td>3114.356164</td>\n    </tr>\n    <tr>\n      <th>167</th>\n      <td>1970-01-07 23:00:00</td>\n      <td>3227.505228</td>\n    </tr>\n    <tr>\n      <th>168</th>\n      <td>1970-01-08 00:00:00</td>\n      <td>451.616108</td>\n    </tr>\n  </tbody>\n</table>\n<p>169 rows × 2 columns</p>\n</div>"
     },
     "execution_count": 3,
     "metadata": {},
     "output_type": "execute_result"
    }
   ],
   "source": [
    "df_host = pd.read_parquet(\"../outputs/raw-output/0/seed=0/host.parquet\")\n",
    "df_host"
   ],
   "metadata": {
    "collapsed": false,
    "ExecuteTime": {
     "end_time": "2024-10-07T17:18:52.401044Z",
     "start_time": "2024-10-07T17:18:52.373213Z"
    }
   },
   "id": "d67a617c2e6f35d2",
   "execution_count": 3
  },
  {
   "cell_type": "code",
   "outputs": [
    {
     "data": {
      "text/plain": "        timestamp  timestamp_absolute                               host_id  \\\n0          300000 2022-10-06 22:05:00  3eb5d772-5f2d-a7e7-0000-00000000010e   \n1          300000 2022-10-06 22:05:00  815f08b6-005e-b55f-0000-0000000000ec   \n2          300000 2022-10-06 22:05:00  34c728aa-0584-7924-0000-0000000000c8   \n3          300000 2022-10-06 22:05:00  bdb9ee86-519b-4e29-0000-000000000085   \n4          300000 2022-10-06 22:05:00  58352289-bb0e-d97f-0000-0000000000c5   \n...           ...                 ...                                   ...   \n558704  605070000 2022-10-13 22:04:30  d15dcc46-f84f-5c2a-0000-000000000084   \n558705  605070000 2022-10-13 22:04:30  eb9d836a-3647-6587-0000-0000000000ca   \n558706  605070000 2022-10-13 22:04:30  a32dc9f6-4f1d-f03a-0000-000000000002   \n558707  605070000 2022-10-13 22:04:30  44f70e6f-8f07-eca7-0000-0000000000c6   \n558708  605070000 2022-10-13 22:04:30  97a96e0a-0d16-4dd9-0000-000000000093   \n\n       host_name  core_count  mem_capacity  guests_terminated  guests_running  \\\n0            H01          16        100000                  0               0   \n1            H01          16        100000                  0               0   \n2            H01          16        100000                  0               0   \n3            H01          16        100000                  0               0   \n4            H01          16        100000                  0               0   \n...          ...         ...           ...                ...             ...   \n558704       H01          16        100000                  0               0   \n558705       H01          16        100000                  0               0   \n558706       H01          16        100000                  0               0   \n558707       H01          16        100000                  0               0   \n558708       H01          16        100000                  0               0   \n\n        guests_error  guests_invalid  ...  cpu_time_steal  cpu_time_lost  \\\n0                  0               0  ...               0              0   \n1                  0               0  ...               0              0   \n2                  0               0  ...               0              0   \n3                  0               0  ...               0              0   \n4                  0               0  ...               0              0   \n...              ...             ...  ...             ...            ...   \n558704             0               0  ...               0              0   \n558705             0               0  ...               0              0   \n558706             0               0  ...               0              0   \n558707             0               0  ...               0              0   \n558708             0               0  ...               0              0   \n\n        power_draw  energy_usage  carbon_intensity  carbon_emission  uptime  \\\n0             32.0       9600.00        152.480506         0.406615  300000   \n1             32.0       9600.00        152.480506         0.406615  300000   \n2             32.0       9600.00        152.480506         0.406615  300000   \n3             32.0       9600.00        152.480506         0.406615  300000   \n4             32.0       9600.00        152.480506         0.406615  300000   \n...            ...           ...               ...              ...     ...   \n558704        32.0       8640.00        199.220248         0.478129  270000   \n558705        32.0       8640.00        199.220248         0.478129  270000   \n558706        32.0      11176.35        199.220248         0.618488  270000   \n558707        32.0       8640.00        199.220248         0.478129  270000   \n558708        32.0       8640.00        199.220248         0.478129  270000   \n\n        downtime      boot_time  boot_time_absolute  \n0              0  1665093600000                 NaN  \n1              0  1665093600000                 NaN  \n2              0  1665093600000                 NaN  \n3              0  1665093600000                 NaN  \n4              0  1665093600000                 NaN  \n...          ...            ...                 ...  \n558704         0  1665093600000                 NaN  \n558705         0  1665093600000                 NaN  \n558706         0  1665093600000                 NaN  \n558707         0  1665093600000                 NaN  \n558708         0  1665093600000                 NaN  \n\n[558709 rows x 26 columns]",
      "text/html": "<div>\n<style scoped>\n    .dataframe tbody tr th:only-of-type {\n        vertical-align: middle;\n    }\n\n    .dataframe tbody tr th {\n        vertical-align: top;\n    }\n\n    .dataframe thead th {\n        text-align: right;\n    }\n</style>\n<table border=\"1\" class=\"dataframe\">\n  <thead>\n    <tr style=\"text-align: right;\">\n      <th></th>\n      <th>timestamp</th>\n      <th>timestamp_absolute</th>\n      <th>host_id</th>\n      <th>host_name</th>\n      <th>core_count</th>\n      <th>mem_capacity</th>\n      <th>guests_terminated</th>\n      <th>guests_running</th>\n      <th>guests_error</th>\n      <th>guests_invalid</th>\n      <th>...</th>\n      <th>cpu_time_steal</th>\n      <th>cpu_time_lost</th>\n      <th>power_draw</th>\n      <th>energy_usage</th>\n      <th>carbon_intensity</th>\n      <th>carbon_emission</th>\n      <th>uptime</th>\n      <th>downtime</th>\n      <th>boot_time</th>\n      <th>boot_time_absolute</th>\n    </tr>\n  </thead>\n  <tbody>\n    <tr>\n      <th>0</th>\n      <td>300000</td>\n      <td>2022-10-06 22:05:00</td>\n      <td>3eb5d772-5f2d-a7e7-0000-00000000010e</td>\n      <td>H01</td>\n      <td>16</td>\n      <td>100000</td>\n      <td>0</td>\n      <td>0</td>\n      <td>0</td>\n      <td>0</td>\n      <td>...</td>\n      <td>0</td>\n      <td>0</td>\n      <td>32.0</td>\n      <td>9600.00</td>\n      <td>152.480506</td>\n      <td>0.406615</td>\n      <td>300000</td>\n      <td>0</td>\n      <td>1665093600000</td>\n      <td>NaN</td>\n    </tr>\n    <tr>\n      <th>1</th>\n      <td>300000</td>\n      <td>2022-10-06 22:05:00</td>\n      <td>815f08b6-005e-b55f-0000-0000000000ec</td>\n      <td>H01</td>\n      <td>16</td>\n      <td>100000</td>\n      <td>0</td>\n      <td>0</td>\n      <td>0</td>\n      <td>0</td>\n      <td>...</td>\n      <td>0</td>\n      <td>0</td>\n      <td>32.0</td>\n      <td>9600.00</td>\n      <td>152.480506</td>\n      <td>0.406615</td>\n      <td>300000</td>\n      <td>0</td>\n      <td>1665093600000</td>\n      <td>NaN</td>\n    </tr>\n    <tr>\n      <th>2</th>\n      <td>300000</td>\n      <td>2022-10-06 22:05:00</td>\n      <td>34c728aa-0584-7924-0000-0000000000c8</td>\n      <td>H01</td>\n      <td>16</td>\n      <td>100000</td>\n      <td>0</td>\n      <td>0</td>\n      <td>0</td>\n      <td>0</td>\n      <td>...</td>\n      <td>0</td>\n      <td>0</td>\n      <td>32.0</td>\n      <td>9600.00</td>\n      <td>152.480506</td>\n      <td>0.406615</td>\n      <td>300000</td>\n      <td>0</td>\n      <td>1665093600000</td>\n      <td>NaN</td>\n    </tr>\n    <tr>\n      <th>3</th>\n      <td>300000</td>\n      <td>2022-10-06 22:05:00</td>\n      <td>bdb9ee86-519b-4e29-0000-000000000085</td>\n      <td>H01</td>\n      <td>16</td>\n      <td>100000</td>\n      <td>0</td>\n      <td>0</td>\n      <td>0</td>\n      <td>0</td>\n      <td>...</td>\n      <td>0</td>\n      <td>0</td>\n      <td>32.0</td>\n      <td>9600.00</td>\n      <td>152.480506</td>\n      <td>0.406615</td>\n      <td>300000</td>\n      <td>0</td>\n      <td>1665093600000</td>\n      <td>NaN</td>\n    </tr>\n    <tr>\n      <th>4</th>\n      <td>300000</td>\n      <td>2022-10-06 22:05:00</td>\n      <td>58352289-bb0e-d97f-0000-0000000000c5</td>\n      <td>H01</td>\n      <td>16</td>\n      <td>100000</td>\n      <td>0</td>\n      <td>0</td>\n      <td>0</td>\n      <td>0</td>\n      <td>...</td>\n      <td>0</td>\n      <td>0</td>\n      <td>32.0</td>\n      <td>9600.00</td>\n      <td>152.480506</td>\n      <td>0.406615</td>\n      <td>300000</td>\n      <td>0</td>\n      <td>1665093600000</td>\n      <td>NaN</td>\n    </tr>\n    <tr>\n      <th>...</th>\n      <td>...</td>\n      <td>...</td>\n      <td>...</td>\n      <td>...</td>\n      <td>...</td>\n      <td>...</td>\n      <td>...</td>\n      <td>...</td>\n      <td>...</td>\n      <td>...</td>\n      <td>...</td>\n      <td>...</td>\n      <td>...</td>\n      <td>...</td>\n      <td>...</td>\n      <td>...</td>\n      <td>...</td>\n      <td>...</td>\n      <td>...</td>\n      <td>...</td>\n      <td>...</td>\n    </tr>\n    <tr>\n      <th>558704</th>\n      <td>605070000</td>\n      <td>2022-10-13 22:04:30</td>\n      <td>d15dcc46-f84f-5c2a-0000-000000000084</td>\n      <td>H01</td>\n      <td>16</td>\n      <td>100000</td>\n      <td>0</td>\n      <td>0</td>\n      <td>0</td>\n      <td>0</td>\n      <td>...</td>\n      <td>0</td>\n      <td>0</td>\n      <td>32.0</td>\n      <td>8640.00</td>\n      <td>199.220248</td>\n      <td>0.478129</td>\n      <td>270000</td>\n      <td>0</td>\n      <td>1665093600000</td>\n      <td>NaN</td>\n    </tr>\n    <tr>\n      <th>558705</th>\n      <td>605070000</td>\n      <td>2022-10-13 22:04:30</td>\n      <td>eb9d836a-3647-6587-0000-0000000000ca</td>\n      <td>H01</td>\n      <td>16</td>\n      <td>100000</td>\n      <td>0</td>\n      <td>0</td>\n      <td>0</td>\n      <td>0</td>\n      <td>...</td>\n      <td>0</td>\n      <td>0</td>\n      <td>32.0</td>\n      <td>8640.00</td>\n      <td>199.220248</td>\n      <td>0.478129</td>\n      <td>270000</td>\n      <td>0</td>\n      <td>1665093600000</td>\n      <td>NaN</td>\n    </tr>\n    <tr>\n      <th>558706</th>\n      <td>605070000</td>\n      <td>2022-10-13 22:04:30</td>\n      <td>a32dc9f6-4f1d-f03a-0000-000000000002</td>\n      <td>H01</td>\n      <td>16</td>\n      <td>100000</td>\n      <td>0</td>\n      <td>0</td>\n      <td>0</td>\n      <td>0</td>\n      <td>...</td>\n      <td>0</td>\n      <td>0</td>\n      <td>32.0</td>\n      <td>11176.35</td>\n      <td>199.220248</td>\n      <td>0.618488</td>\n      <td>270000</td>\n      <td>0</td>\n      <td>1665093600000</td>\n      <td>NaN</td>\n    </tr>\n    <tr>\n      <th>558707</th>\n      <td>605070000</td>\n      <td>2022-10-13 22:04:30</td>\n      <td>44f70e6f-8f07-eca7-0000-0000000000c6</td>\n      <td>H01</td>\n      <td>16</td>\n      <td>100000</td>\n      <td>0</td>\n      <td>0</td>\n      <td>0</td>\n      <td>0</td>\n      <td>...</td>\n      <td>0</td>\n      <td>0</td>\n      <td>32.0</td>\n      <td>8640.00</td>\n      <td>199.220248</td>\n      <td>0.478129</td>\n      <td>270000</td>\n      <td>0</td>\n      <td>1665093600000</td>\n      <td>NaN</td>\n    </tr>\n    <tr>\n      <th>558708</th>\n      <td>605070000</td>\n      <td>2022-10-13 22:04:30</td>\n      <td>97a96e0a-0d16-4dd9-0000-000000000093</td>\n      <td>H01</td>\n      <td>16</td>\n      <td>100000</td>\n      <td>0</td>\n      <td>0</td>\n      <td>0</td>\n      <td>0</td>\n      <td>...</td>\n      <td>0</td>\n      <td>0</td>\n      <td>32.0</td>\n      <td>8640.00</td>\n      <td>199.220248</td>\n      <td>0.478129</td>\n      <td>270000</td>\n      <td>0</td>\n      <td>1665093600000</td>\n      <td>NaN</td>\n    </tr>\n  </tbody>\n</table>\n<p>558709 rows × 26 columns</p>\n</div>"
     },
     "execution_count": 4,
     "metadata": {},
     "output_type": "execute_result"
    }
   ],
   "source": [
    "df_host['timestamp_absolute'] = pd.to_datetime(df_host['timestamp_absolute'], unit='ms')\n",
    "df_host"
   ],
   "metadata": {
    "collapsed": false,
    "ExecuteTime": {
     "end_time": "2024-10-07T17:12:17.783487Z",
     "start_time": "2024-10-07T17:12:17.706028Z"
    }
   },
   "id": "20ab7d5080fce0ec",
   "execution_count": 4
  },
  {
   "cell_type": "markdown",
   "source": [],
   "metadata": {
    "collapsed": false
   },
   "id": "1a251de21e6748a1"
  },
  {
   "cell_type": "markdown",
   "source": [],
   "metadata": {
    "collapsed": false
   },
   "id": "5d715a64acc020e1"
  },
  {
   "cell_type": "code",
   "outputs": [
    {
     "data": {
      "text/plain": "timestamp_absolute\n2022-10-06 22:00:00    2546.725958\n2022-10-06 23:00:00    2552.592086\n2022-10-07 00:00:00    2356.925711\n2022-10-07 01:00:00    2448.637938\n2022-10-07 02:00:00    2786.439802\n                          ...     \n2022-10-13 18:00:00    2943.646919\n2022-10-13 19:00:00    3063.862788\n2022-10-13 20:00:00    3114.356164\n2022-10-13 21:00:00    3227.505228\n2022-10-13 22:00:00     451.616108\nFreq: h, Name: carbon_emission, Length: 169, dtype: float64"
     },
     "execution_count": 6,
     "metadata": {},
     "output_type": "execute_result"
    }
   ],
   "source": [
    "emissions = df_host.groupby(pd.Grouper(key='timestamp_absolute', freq='h'))['carbon_emission'].sum()\n",
    "emissions"
   ],
   "metadata": {
    "collapsed": false,
    "ExecuteTime": {
     "end_time": "2024-10-07T17:12:44.420985Z",
     "start_time": "2024-10-07T17:12:44.352092Z"
    }
   },
   "id": "ef1408fa4b2011d4",
   "execution_count": 6
  },
  {
   "cell_type": "code",
   "outputs": [],
   "source": [],
   "metadata": {
    "collapsed": false,
    "ExecuteTime": {
     "end_time": "2024-10-07T17:12:54.815294Z",
     "start_time": "2024-10-07T17:12:54.811697Z"
    }
   },
   "id": "5bdb1e2d5518095c",
   "execution_count": 7
  },
  {
   "cell_type": "code",
   "outputs": [],
   "source": [],
   "metadata": {
    "collapsed": false
   },
   "id": "32476ffa6ed001f2"
  },
  {
   "cell_type": "code",
   "outputs": [],
   "source": [],
   "metadata": {
    "collapsed": false
   },
   "id": "2c6c4065d596a072"
  },
  {
   "cell_type": "code",
   "outputs": [],
   "source": [],
   "metadata": {
    "collapsed": false
   },
   "id": "64447572e205be4e"
  },
  {
   "cell_type": "code",
   "outputs": [],
   "source": [
    "# \"\"\"\n",
    "# This function is used to parse the seconds to hours, from the list of .parquet files received as parameters.\n",
    "# Hence, if the data is in gCO2/second it will be converted into gCO2/hour.\n",
    "# \n",
    "# The parquet file is then changed (overwritten) to reflect the change.\n",
    "# \"\"\"\n",
    "# \n",
    "# import os\n",
    "# import pandas as pd\n",
    "# \n",
    "# \n",
    "# def parse_seconds_to_hours(files):\n",
    "#     for file in files:\n",
    "#         df_host = pd.read_parquet(file)\n",
    "# \n",
    "#         # Ensure the 'timestamp_absolute' is in datetime format\n",
    "#         df_host['timestamp_absolute'] = pd.to_datetime(df_host['timestamp_absolute'])\n",
    "# \n",
    "#         # Group by hour and sum the emissions\n",
    "#         emissions = df_host.groupby(pd.Grouper(key='timestamp_absolute', freq='h').sum())['carbon_emission']\n",
    "# \n",
    "#         # Convert the series back to a dataframe\n",
    "#         emissions_df = emissions.reset_index()\n",
    "# \n",
    "#         # Save the new dataframe back to parquet\n",
    "#         emissions_df.to_parquet(file, engine='pyarrow')\n",
    "#         print(f\"File {file} updated with gCO2/hour\")\n",
    "# \n",
    "# \n",
    "# if __name__ == '__main__':\n",
    "#     print(\"You are at: \", os.getcwd())\n",
    "# \n",
    "#     files = [\n",
    "#         \"../outputs/raw-output/0/seed=0/host.parquet\",\n",
    "#         \"../outputs/raw-output/1/seed=0/host.parquet\",\n",
    "#         \"../outputs/raw-output/2/seed=0/host.parquet\",\n",
    "#         \"../outputs/raw-output/3/seed=0/host.parquet\",\n",
    "#         \"../outputs/raw-output/4/seed=0/host.parquet\"\n",
    "#     ]\n",
    "# \n",
    "#     parse_seconds_to_hours(files)\n"
   ],
   "metadata": {
    "collapsed": false
   },
   "id": "91c1ac95275e4177"
  }
 ],
 "metadata": {
  "kernelspec": {
   "display_name": "Python 3",
   "language": "python",
   "name": "python3"
  },
  "language_info": {
   "codemirror_mode": {
    "name": "ipython",
    "version": 2
   },
   "file_extension": ".py",
   "mimetype": "text/x-python",
   "name": "python",
   "nbconvert_exporter": "python",
   "pygments_lexer": "ipython2",
   "version": "2.7.6"
  }
 },
 "nbformat": 4,
 "nbformat_minor": 5
}
