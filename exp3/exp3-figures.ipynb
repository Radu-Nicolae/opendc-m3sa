{
 "cells": [
  {
   "cell_type": "code",
   "id": "initial_id",
   "metadata": {
    "collapsed": true,
    "ExecuteTime": {
     "end_time": "2024-12-06T17:15:08.202200Z",
     "start_time": "2024-12-06T17:15:08.198660Z"
    }
   },
   "source": [
    "import os\n",
    "import pandas as pd\n",
    "import numpy as np\n",
    "import seaborn as sns\n",
    "\n",
    "from migrator import *\n",
    "from plotter import *\n",
    "from co2_migrator import *"
   ],
   "outputs": [],
   "execution_count": 1
  },
  {
   "metadata": {
    "ExecuteTime": {
     "end_time": "2024-12-06T17:15:09.240194Z",
     "start_time": "2024-12-06T17:15:08.206660Z"
    }
   },
   "cell_type": "code",
   "source": [
    "!pip install tabulate\n",
    "!pip install seaborn"
   ],
   "id": "1a8710157c3b85d2",
   "outputs": [
    {
     "name": "stdout",
     "output_type": "stream",
     "text": [
      "Requirement already satisfied: tabulate in /opt/homebrew/lib/python3.11/site-packages (0.9.0)\r\n",
      "Requirement already satisfied: seaborn in /opt/homebrew/lib/python3.11/site-packages (0.13.2)\r\n",
      "Requirement already satisfied: numpy!=1.24.0,>=1.20 in /opt/homebrew/lib/python3.11/site-packages (from seaborn) (1.24.3)\r\n",
      "Requirement already satisfied: pandas>=1.2 in /opt/homebrew/lib/python3.11/site-packages (from seaborn) (2.2.2)\r\n",
      "Requirement already satisfied: matplotlib!=3.6.1,>=3.4 in /opt/homebrew/lib/python3.11/site-packages (from seaborn) (3.8.4)\r\n",
      "Requirement already satisfied: contourpy>=1.0.1 in /opt/homebrew/lib/python3.11/site-packages (from matplotlib!=3.6.1,>=3.4->seaborn) (1.0.7)\r\n",
      "Requirement already satisfied: cycler>=0.10 in /opt/homebrew/lib/python3.11/site-packages (from matplotlib!=3.6.1,>=3.4->seaborn) (0.11.0)\r\n",
      "Requirement already satisfied: fonttools>=4.22.0 in /opt/homebrew/lib/python3.11/site-packages (from matplotlib!=3.6.1,>=3.4->seaborn) (4.39.3)\r\n",
      "Requirement already satisfied: kiwisolver>=1.3.1 in /opt/homebrew/lib/python3.11/site-packages (from matplotlib!=3.6.1,>=3.4->seaborn) (1.4.4)\r\n",
      "Requirement already satisfied: packaging>=20.0 in /opt/homebrew/lib/python3.11/site-packages (from matplotlib!=3.6.1,>=3.4->seaborn) (23.1)\r\n",
      "Requirement already satisfied: pillow>=8 in /opt/homebrew/lib/python3.11/site-packages (from matplotlib!=3.6.1,>=3.4->seaborn) (9.5.0)\r\n",
      "Requirement already satisfied: pyparsing>=2.3.1 in /opt/homebrew/lib/python3.11/site-packages (from matplotlib!=3.6.1,>=3.4->seaborn) (3.0.9)\r\n",
      "Requirement already satisfied: python-dateutil>=2.7 in /opt/homebrew/lib/python3.11/site-packages (from matplotlib!=3.6.1,>=3.4->seaborn) (2.8.2)\r\n",
      "Requirement already satisfied: pytz>=2020.1 in /opt/homebrew/lib/python3.11/site-packages (from pandas>=1.2->seaborn) (2023.3)\r\n",
      "Requirement already satisfied: tzdata>=2022.7 in /opt/homebrew/lib/python3.11/site-packages (from pandas>=1.2->seaborn) (2023.3)\r\n",
      "Requirement already satisfied: six>=1.5 in /opt/homebrew/lib/python3.11/site-packages (from python-dateutil>=2.7->matplotlib!=3.6.1,>=3.4->seaborn) (1.16.0)\r\n"
     ]
    }
   ],
   "execution_count": 2
  },
  {
   "metadata": {
    "ExecuteTime": {
     "end_time": "2024-12-06T17:15:50.868728Z",
     "start_time": "2024-12-06T17:15:50.832882Z"
    }
   },
   "cell_type": "code",
   "source": [
    "# read all the metamodels from metamodels folder\n",
    "metamodels = []\n",
    "SCALE_TO_MARCONI = 2982 / 150\n",
    "for file in os.listdir(\"metamodels\"):\n",
    "    country_code = file[:2]\n",
    "    if country_code == \"eu\":\n",
    "        country_code = file[:6]\n",
    "\n",
    "    metamodels.append(\n",
    "        MetaModel(\n",
    "            country_code = country_code,\n",
    "            co2_emissions = pd.read_parquet(\"metamodels/\" + file)[\"carbon_emission\"].values\n",
    "        )\n",
    "    )\n"
   ],
   "id": "6c1d538c63a8fdd8",
   "outputs": [],
   "execution_count": 8
  },
  {
   "metadata": {
    "ExecuteTime": {
     "end_time": "2024-12-06T17:16:16.165539Z",
     "start_time": "2024-12-06T17:16:16.158967Z"
    }
   },
   "cell_type": "code",
   "source": [
    "for metamodel in metamodels:\n",
    "    metamodel.total_emissions *= SCALE_TO_MARCONI # to the scale of marconi, data represented in tons"
   ],
   "id": "97516e1791e9d232",
   "outputs": [],
   "execution_count": 9
  },
  {
   "metadata": {
    "ExecuteTime": {
     "end_time": "2024-12-06T17:16:18.738194Z",
     "start_time": "2024-12-06T17:16:18.734326Z"
    }
   },
   "cell_type": "code",
   "source": [
    "# Create a list of data\n",
    "data = [(metamodel.country_code, metamodel.total_emissions) for metamodel in metamodels]\n",
    "\n",
    "countries = [metamodel.country_code for metamodel in metamodels]\n",
    "total_co2 = [metamodel.total_emissions for metamodel in metamodels]\n",
    "\n",
    "print(\"Country \\t Total tCO2\")\n",
    "for metamodel in metamodels:\n",
    "    print(f\"{metamodel.country_code:<15}{metamodel.total_emissions:>0.2f}\")"
   ],
   "id": "547d9e294ab27dd6",
   "outputs": [
    {
     "name": "stdout",
     "output_type": "stream",
     "text": [
      "Country \t Total tCO2\n",
      "cz             3684935.53\n",
      "pt             1643449.18\n",
      "sk             733849.13\n",
      "eu_08h         45844.87\n",
      "dk             1711712.53\n",
      "lv             45844.87\n",
      "it             2137275.54\n",
      "si             3397083.47\n",
      "lu             717153.90\n",
      "ee             3903682.33\n",
      "gr             2726543.99\n",
      "lt             919086.39\n",
      "at             1129741.04\n",
      "pl             9332563.02\n",
      "es             5658299.87\n",
      "rs             7365438.02\n",
      "fi             189435.72\n",
      "bg             5151212.76\n",
      "fr             179296.92\n",
      "hr             374257.90\n",
      "mk             13684059.05\n",
      "de             13563432.37\n",
      "se             120251.73\n",
      "eu_01h         45844.87\n",
      "no             115948.31\n",
      "be             726255.36\n",
      "ro             2968721.95\n",
      "eu_15m         45844.87\n",
      "nl             7029690.26\n",
      "ch             74318.40\n",
      "eu_24h         45844.87\n",
      "hu             9064605.47\n",
      "ba             7610256.84\n",
      "eu_04h         45844.87\n"
     ]
    }
   ],
   "execution_count": 10
  },
  {
   "metadata": {
    "ExecuteTime": {
     "end_time": "2024-12-06T17:15:09.439832Z",
     "start_time": "2024-12-06T17:15:09.437866Z"
    }
   },
   "cell_type": "code",
   "source": [
    "# Create a DataFrame from the metamodel data\n",
    "data = pd.DataFrame({\n",
    "    'Country': [metamodel.country_code for metamodel in metamodels],\n",
    "    'Total CO2': [metamodel.total_emissions for metamodel in metamodels]\n",
    "})"
   ],
   "id": "1ecdf4184016e26f",
   "outputs": [],
   "execution_count": 6
  },
  {
   "metadata": {
    "ExecuteTime": {
     "end_time": "2024-12-06T17:15:09.638213Z",
     "start_time": "2024-12-06T17:15:09.446605Z"
    }
   },
   "cell_type": "code",
   "source": [
    "plt.figure(figsize=(10, 5))\n",
    "sns.violinplot(\n",
    "    x=total_co2,\n",
    "    inner_kws=dict(box_width=20, whis_width=5, color='#C8642B'),\n",
    "    color='#00649D',\n",
    "    # minimum of x is 0\n",
    "    scale='width'\n",
    ")\n",
    "plt.xlabel('Total Emissions [tCO2]', fontsize=22)\n",
    "# minimum on x axis is 0\n",
    "plt.xlim(0)\n",
    "plt.xticks(fontsize=32, ticks=[0, 175, 350])\n",
    "plt.show()"
   ],
   "id": "af6be3e000f8d411",
   "outputs": [
    {
     "name": "stderr",
     "output_type": "stream",
     "text": [
      "/var/folders/0l/v3bdnpq11fbfhlwsbhdph8c80000gn/T/ipykernel_19305/2147508747.py:2: FutureWarning: \n",
      "\n",
      "The `scale` parameter has been renamed and will be removed in v0.15.0. Pass `density_norm='width'` for the same effect.\n",
      "  sns.violinplot(\n",
      "/Library/Frameworks/Python.framework/Versions/3.10/lib/python3.10/site-packages/seaborn/_base.py:949: FutureWarning: When grouping with a length-1 list-like, you will need to pass a length-1 tuple to get_group in a future version of pandas. Pass `(name,)` instead of `name` to silence this warning.\n",
      "  data_subset = grouped_data.get_group(pd_key)\n"
     ]
    },
    {
     "data": {
      "text/plain": [
       "<Figure size 1000x500 with 1 Axes>"
      ],
      "image/png": "[encoded data removed]"
     },
     "metadata": {},
     "output_type": "display_data"
    }
   ],
   "execution_count": 7
  },
  {
   "metadata": {
    "ExecuteTime": {
     "end_time": "2024-12-06T18:13:10.408461Z",
     "start_time": "2024-12-06T18:13:10.393914Z"
    }
   },
   "cell_type": "code",
   "source": "pd.read_parquet(\"metamodels/15min.parquet\")[\"carbon_emission\"].sum()",
   "id": "e70e7f7a14aa2232",
   "outputs": [
    {
     "data": {
      "text/plain": [
       "2306.0796800251405"
      ]
     },
     "execution_count": 48,
     "metadata": {},
     "output_type": "execute_result"
    }
   ],
   "execution_count": 48
  },
  {
   "metadata": {
    "ExecuteTime": {
     "end_time": "2024-12-06T18:16:15.675118Z",
     "start_time": "2024-12-06T18:16:15.668369Z"
    }
   },
   "cell_type": "code",
   "source": "pd.read_parquet(\"metamodels/24h.parquet\")[\"carbon_emission\"].sum()",
   "id": "ac27090d9b9b2def",
   "outputs": [
    {
     "data": {
      "text/plain": [
       "2306.0796800251405"
      ]
     },
     "execution_count": 52,
     "metadata": {},
     "output_type": "execute_result"
    }
   ],
   "execution_count": 52
  },
  {
   "metadata": {
    "ExecuteTime": {
     "end_time": "2024-12-06T18:14:03.960174Z",
     "start_time": "2024-12-06T18:14:03.954047Z"
    }
   },
   "cell_type": "code",
   "source": "pd.read_parquet(\"inputs/co2/EU-migration=15min-2023-06.parquet\")[\"carbon_intensity\"].sum()",
   "id": "f8db7d25885887ce",
   "outputs": [
    {
     "data": {
      "text/plain": [
       "3239.3405229652344"
      ]
     },
     "execution_count": 50,
     "metadata": {},
     "output_type": "execute_result"
    }
   ],
   "execution_count": 50
  },
  {
   "metadata": {
    "ExecuteTime": {
     "end_time": "2024-12-06T18:15:49.490135Z",
     "start_time": "2024-12-06T18:15:49.476572Z"
    }
   },
   "cell_type": "code",
   "source": "pd.read_parquet(\"inputs/co2/EU-migration=24h-2023-06.parquet\")[\"carbon_intensity\"].sum()",
   "id": "cbc146e0725936d5",
   "outputs": [
    {
     "data": {
      "text/plain": [
       "6446.059957406895"
      ]
     },
     "execution_count": 51,
     "metadata": {},
     "output_type": "execute_result"
    }
   ],
   "execution_count": 51
  },
  {
   "metadata": {
    "ExecuteTime": {
     "end_time": "2024-12-06T18:25:55.142451Z",
     "start_time": "2024-12-06T18:25:55.138817Z"
    }
   },
   "cell_type": "code",
   "source": "watts = pd.read_parquet(\"outputs/raw-output/metamodel/seed=0/power_draw.parquet\")[\"power_draw\"].sum()",
   "id": "221749ba6da0a641",
   "outputs": [],
   "execution_count": 65
  },
  {
   "metadata": {
    "ExecuteTime": {
     "end_time": "2024-12-06T18:25:55.434853Z",
     "start_time": "2024-12-06T18:25:55.428810Z"
    }
   },
   "cell_type": "code",
   "source": [
    "# average carbon emission per kilowatt hours\n",
    "# divide by the\n",
    "\n",
    "gCO2perWatt = pd.read_parquet(\"inputs/co2/EU-migration=15min-2023-06.parquet\")[\"carbon_intensity\"].sum() / len(pd.read_parquet(\"inputs/co2/EU-migration=15min-2023-06.parquet\")[\"carbon_intensity\"])\n",
    "gco2 = gCO2perWatt * watts\n",
    "gco2"
   ],
   "id": "447dbebc3f72d0f4",
   "outputs": [
    {
     "data": {
      "text/plain": [
       "15987861.867651964"
      ]
     },
     "execution_count": 66,
     "metadata": {},
     "output_type": "execute_result"
    }
   ],
   "execution_count": 66
  },
  {
   "metadata": {
    "ExecuteTime": {
     "end_time": "2024-12-06T18:26:03.469459Z",
     "start_time": "2024-12-06T18:26:03.467331Z"
    }
   },
   "cell_type": "code",
   "source": "tonsCO2 = gco2 / 1000000",
   "id": "5bca81d16e73f3f7",
   "outputs": [],
   "execution_count": 67
  },
  {
   "metadata": {
    "ExecuteTime": {
     "end_time": "2024-12-06T18:26:08.204594Z",
     "start_time": "2024-12-06T18:26:08.201915Z"
    }
   },
   "cell_type": "code",
   "source": "tonsCO2",
   "id": "46809e20131a5132",
   "outputs": [
    {
     "data": {
      "text/plain": [
       "15.987861867651963"
      ]
     },
     "execution_count": 68,
     "metadata": {},
     "output_type": "execute_result"
    }
   ],
   "execution_count": 68
  },
  {
   "metadata": {},
   "cell_type": "code",
   "outputs": [],
   "execution_count": null,
   "source": "",
   "id": "84aa3932c18fb503"
  }
 ],
 "metadata": {
  "kernelspec": {
   "display_name": "Python 3",
   "language": "python",
   "name": "python3"
  },
  "language_info": {
   "codemirror_mode": {
    "name": "ipython",
    "version": 2
   },
   "file_extension": ".py",
   "mimetype": "text/x-python",
   "name": "python",
   "nbconvert_exporter": "python",
   "pygments_lexer": "ipython2",
   "version": "2.7.6"
  }
 },
 "nbformat": 4,
 "nbformat_minor": 5
}
