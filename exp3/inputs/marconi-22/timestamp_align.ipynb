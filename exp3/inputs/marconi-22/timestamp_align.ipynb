{
 "cells": [
  {
   "cell_type": "code",
   "id": "initial_id",
   "metadata": {
    "collapsed": true,
    "ExecuteTime": {
     "end_time": "2024-12-07T16:48:26.550377Z",
     "start_time": "2024-12-07T16:48:26.546999Z"
    }
   },
   "source": [
    "import os\n",
    "import pandas as pd\n",
    "import numpy as np\n",
    "import pyarrow as pa\n",
    "import pyarrow.parquet as pq"
   ],
   "outputs": [],
   "execution_count": 37
  },
  {
   "metadata": {
    "ExecuteTime": {
     "end_time": "2024-12-07T16:43:27.960467Z",
     "start_time": "2024-12-07T16:43:27.948565Z"
    }
   },
   "cell_type": "code",
   "source": [
    "tasks = pd.read_parquet(\"./tasks.parquet\")\n",
    "tasks"
   ],
   "id": "20d258a3f981bd2",
   "outputs": [
    {
     "data": {
      "text/plain": [
       "           id     submission_time  duration  cpu_count  cpu_capacity  \\\n",
       "0      354695 2023-06-12 00:44:44  43172000         48      100800.0   \n",
       "1     5322138 2023-06-12 11:10:06   1050000         48      100800.0   \n",
       "2     2979308 2023-06-12 12:31:46    628000         48      100800.0   \n",
       "3     2872246 2023-06-12 13:05:31   1588000         48      100800.0   \n",
       "4      821602 2023-06-12 13:09:26  68034000         48      100800.0   \n",
       "...       ...                 ...       ...        ...           ...   \n",
       "8371  2088308 2023-06-15 07:43:11    357000         48      100800.0   \n",
       "8372  1394750 2023-06-15 08:27:36    382000         48      100800.0   \n",
       "8373  4906495 2023-06-15 16:40:51   7200000         48      100800.0   \n",
       "8374  5667091 2023-06-15 08:35:40    828000         48      100800.0   \n",
       "8375  2246801 2023-06-15 07:21:07    249000         48      100800.0   \n",
       "\n",
       "      mem_capacity  \n",
       "0     196000000000  \n",
       "1     196000000000  \n",
       "2     196000000000  \n",
       "3     196000000000  \n",
       "4     196000000000  \n",
       "...            ...  \n",
       "8371  196000000000  \n",
       "8372  196000000000  \n",
       "8373  196000000000  \n",
       "8374  196000000000  \n",
       "8375  196000000000  \n",
       "\n",
       "[8376 rows x 6 columns]"
      ],
      "text/html": [
       "<div>\n",
       "<style scoped>\n",
       "    .dataframe tbody tr th:only-of-type {\n",
       "        vertical-align: middle;\n",
       "    }\n",
       "\n",
       "    .dataframe tbody tr th {\n",
       "        vertical-align: top;\n",
       "    }\n",
       "\n",
       "    .dataframe thead th {\n",
       "        text-align: right;\n",
       "    }\n",
       "</style>\n",
       "<table border=\"1\" class=\"dataframe\">\n",
       "  <thead>\n",
       "    <tr style=\"text-align: right;\">\n",
       "      <th></th>\n",
       "      <th>id</th>\n",
       "      <th>submission_time</th>\n",
       "      <th>duration</th>\n",
       "      <th>cpu_count</th>\n",
       "      <th>cpu_capacity</th>\n",
       "      <th>mem_capacity</th>\n",
       "    </tr>\n",
       "  </thead>\n",
       "  <tbody>\n",
       "    <tr>\n",
       "      <th>0</th>\n",
       "      <td>354695</td>\n",
       "      <td>2023-06-12 00:44:44</td>\n",
       "      <td>43172000</td>\n",
       "      <td>48</td>\n",
       "      <td>100800.0</td>\n",
       "      <td>196000000000</td>\n",
       "    </tr>\n",
       "    <tr>\n",
       "      <th>1</th>\n",
       "      <td>5322138</td>\n",
       "      <td>2023-06-12 11:10:06</td>\n",
       "      <td>1050000</td>\n",
       "      <td>48</td>\n",
       "      <td>100800.0</td>\n",
       "      <td>196000000000</td>\n",
       "    </tr>\n",
       "    <tr>\n",
       "      <th>2</th>\n",
       "      <td>2979308</td>\n",
       "      <td>2023-06-12 12:31:46</td>\n",
       "      <td>628000</td>\n",
       "      <td>48</td>\n",
       "      <td>100800.0</td>\n",
       "      <td>196000000000</td>\n",
       "    </tr>\n",
       "    <tr>\n",
       "      <th>3</th>\n",
       "      <td>2872246</td>\n",
       "      <td>2023-06-12 13:05:31</td>\n",
       "      <td>1588000</td>\n",
       "      <td>48</td>\n",
       "      <td>100800.0</td>\n",
       "      <td>196000000000</td>\n",
       "    </tr>\n",
       "    <tr>\n",
       "      <th>4</th>\n",
       "      <td>821602</td>\n",
       "      <td>2023-06-12 13:09:26</td>\n",
       "      <td>68034000</td>\n",
       "      <td>48</td>\n",
       "      <td>100800.0</td>\n",
       "      <td>196000000000</td>\n",
       "    </tr>\n",
       "    <tr>\n",
       "      <th>...</th>\n",
       "      <td>...</td>\n",
       "      <td>...</td>\n",
       "      <td>...</td>\n",
       "      <td>...</td>\n",
       "      <td>...</td>\n",
       "      <td>...</td>\n",
       "    </tr>\n",
       "    <tr>\n",
       "      <th>8371</th>\n",
       "      <td>2088308</td>\n",
       "      <td>2023-06-15 07:43:11</td>\n",
       "      <td>357000</td>\n",
       "      <td>48</td>\n",
       "      <td>100800.0</td>\n",
       "      <td>196000000000</td>\n",
       "    </tr>\n",
       "    <tr>\n",
       "      <th>8372</th>\n",
       "      <td>1394750</td>\n",
       "      <td>2023-06-15 08:27:36</td>\n",
       "      <td>382000</td>\n",
       "      <td>48</td>\n",
       "      <td>100800.0</td>\n",
       "      <td>196000000000</td>\n",
       "    </tr>\n",
       "    <tr>\n",
       "      <th>8373</th>\n",
       "      <td>4906495</td>\n",
       "      <td>2023-06-15 16:40:51</td>\n",
       "      <td>7200000</td>\n",
       "      <td>48</td>\n",
       "      <td>100800.0</td>\n",
       "      <td>196000000000</td>\n",
       "    </tr>\n",
       "    <tr>\n",
       "      <th>8374</th>\n",
       "      <td>5667091</td>\n",
       "      <td>2023-06-15 08:35:40</td>\n",
       "      <td>828000</td>\n",
       "      <td>48</td>\n",
       "      <td>100800.0</td>\n",
       "      <td>196000000000</td>\n",
       "    </tr>\n",
       "    <tr>\n",
       "      <th>8375</th>\n",
       "      <td>2246801</td>\n",
       "      <td>2023-06-15 07:21:07</td>\n",
       "      <td>249000</td>\n",
       "      <td>48</td>\n",
       "      <td>100800.0</td>\n",
       "      <td>196000000000</td>\n",
       "    </tr>\n",
       "  </tbody>\n",
       "</table>\n",
       "<p>8376 rows × 6 columns</p>\n",
       "</div>"
      ]
     },
     "execution_count": 27,
     "metadata": {},
     "output_type": "execute_result"
    }
   ],
   "execution_count": 27
  },
  {
   "metadata": {
    "ExecuteTime": {
     "end_time": "2024-12-07T16:43:29.189435Z",
     "start_time": "2024-12-07T16:43:29.181701Z"
    }
   },
   "cell_type": "code",
   "source": [
    "# read the types of the columns in the tasks dataframe\n",
    "pd.read_parquet(\"./tasks.parquet\").dtypes"
   ],
   "id": "946165ec1c2032c7",
   "outputs": [
    {
     "data": {
      "text/plain": [
       "id                         object\n",
       "submission_time    datetime64[ms]\n",
       "duration                    int64\n",
       "cpu_count                   int32\n",
       "cpu_capacity              float64\n",
       "mem_capacity                int64\n",
       "dtype: object"
      ]
     },
     "execution_count": 28,
     "metadata": {},
     "output_type": "execute_result"
    }
   ],
   "execution_count": 28
  },
  {
   "metadata": {
    "ExecuteTime": {
     "end_time": "2024-12-07T16:43:29.691247Z",
     "start_time": "2024-12-07T16:43:29.682929Z"
    }
   },
   "cell_type": "code",
   "source": "pd.read_parquet(\"./tasks-old.parquet\").dtypes",
   "id": "c516b9d0350fbd3f",
   "outputs": [
    {
     "data": {
      "text/plain": [
       "id                         object\n",
       "submission_time    datetime64[ms]\n",
       "duration                    int64\n",
       "cpu_count                   int32\n",
       "cpu_capacity              float64\n",
       "mem_capacity                int64\n",
       "dtype: object"
      ]
     },
     "execution_count": 29,
     "metadata": {},
     "output_type": "execute_result"
    }
   ],
   "execution_count": 29
  },
  {
   "metadata": {
    "ExecuteTime": {
     "end_time": "2024-12-07T16:43:30.755556Z",
     "start_time": "2024-12-07T16:43:30.749072Z"
    }
   },
   "cell_type": "code",
   "source": [
    "old_schema = pq.read_schema(\"./tasks-old.parquet\")\n",
    "new_schema = pq.read_schema(\"./tasks.parquet\")\n",
    "print(\"Old Schema:\\n\", old_schema)\n",
    "print(\"New Schema:\\n\", new_schema)"
   ],
   "id": "440c9bf6683029da",
   "outputs": [
    {
     "name": "stdout",
     "output_type": "stream",
     "text": [
      "Old Schema:\n",
      " id: string not null\n",
      "submission_time: timestamp[ms] not null\n",
      "duration: int64 not null\n",
      "cpu_count: int32 not null\n",
      "cpu_capacity: double not null\n",
      "mem_capacity: int64 not null\n",
      "-- schema metadata --\n",
      "pandas: '{\"index_columns\": [], \"column_indexes\": [], \"columns\": [{\"name\":' + 792\n",
      "New Schema:\n",
      " id: string\n",
      "submission_time: timestamp[ms]\n",
      "duration: int64\n",
      "cpu_count: int32\n",
      "cpu_capacity: double\n",
      "mem_capacity: int64\n",
      "-- schema metadata --\n",
      "pandas: '{\"index_columns\": [{\"kind\": \"range\", \"name\": null, \"start\": 0, \"' + 979\n"
     ]
    }
   ],
   "execution_count": 30
  },
  {
   "metadata": {
    "ExecuteTime": {
     "end_time": "2024-12-07T16:25:31.035581Z",
     "start_time": "2024-12-07T16:25:31.032303Z"
    }
   },
   "cell_type": "code",
   "source": [
    "# minimum timestamp\n",
    "tasks[\"submission_time\"].min()"
   ],
   "id": "d8b4212e2ec4748b",
   "outputs": [
    {
     "data": {
      "text/plain": [
       "Timestamp('2023-05-31 04:40:10')"
      ]
     },
     "execution_count": 7,
     "metadata": {},
     "output_type": "execute_result"
    }
   ],
   "execution_count": 7
  },
  {
   "metadata": {
    "ExecuteTime": {
     "end_time": "2024-12-07T16:25:38.316977Z",
     "start_time": "2024-12-07T16:25:38.313767Z"
    }
   },
   "cell_type": "code",
   "source": [
    "# maximum timestamp\n",
    "tasks[\"submission_time\"].max()"
   ],
   "id": "53df83d769db66f",
   "outputs": [
    {
     "data": {
      "text/plain": [
       "Timestamp('2023-06-28 21:49:28')"
      ]
     },
     "execution_count": 9,
     "metadata": {},
     "output_type": "execute_result"
    }
   ],
   "execution_count": 9
  },
  {
   "metadata": {
    "ExecuteTime": {
     "end_time": "2024-12-07T16:25:51.128412Z",
     "start_time": "2024-12-07T16:25:51.115761Z"
    }
   },
   "cell_type": "code",
   "source": [
    "# save the new tasks to tasks.parquet\n",
    "tasks.to_parquet(\"./tasks.parquet\")"
   ],
   "id": "e77074249704d1b8",
   "outputs": [],
   "execution_count": 10
  },
  {
   "metadata": {
    "ExecuteTime": {
     "end_time": "2024-12-07T16:55:53.759838Z",
     "start_time": "2024-12-07T16:55:53.738637Z"
    }
   },
   "cell_type": "code",
   "source": [
    "schema = pa.schema([\n",
    "    pa.field(\"id\", pa.string(), nullable=False),\n",
    "    pa.field(\"submission_time\", pa.timestamp('ms'), nullable=False),\n",
    "    pa.field(\"duration\", pa.int64(), nullable=False),\n",
    "    pa.field(\"cpu_count\", pa.int32(), nullable=False),\n",
    "    pa.field(\"cpu_capacity\", pa.float64(), nullable=False),\n",
    "    pa.field(\"mem_capacity\", pa.int64(), nullable=False)\n",
    "])\n",
    "\n",
    "tasks = pd.read_parquet(\"./tasks.parquet\")\n",
    "pq.write_table(pa.Table.from_pandas(tasks, schema=schema), \"./tasks.parquet\")"
   ],
   "id": "e2866cf71b6c6c40",
   "outputs": [],
   "execution_count": 45
  },
  {
   "metadata": {
    "ExecuteTime": {
     "end_time": "2024-12-07T17:30:46.132468Z",
     "start_time": "2024-12-07T17:30:46.127046Z"
    }
   },
   "cell_type": "code",
   "source": [
    "goodSchema = pq.read_schema(\"../co2/good_schema.parquet\")\n",
    "ourschema = pq.read_schema(\"../co2/AT-2023-06.parquet\")\n",
    "print(\"Good Schema:\\n\", goodSchema)\n",
    "print(\"\\n\\nOur Schema:\\n\", ourschema)"
   ],
   "id": "a5be7424cb6185b1",
   "outputs": [
    {
     "name": "stdout",
     "output_type": "stream",
     "text": [
      "Good Schema:\n",
      " timestamp: timestamp[ms] not null\n",
      "carbon_intensity: double not null\n",
      "-- schema metadata --\n",
      "pandas: '{\"index_columns\": [], \"column_indexes\": [], \"columns\": [{\"name\":' + 362\n",
      "\n",
      "\n",
      "Our Schema:\n",
      " timestamp: timestamp[ns]\n",
      "carbon_intensity: double\n",
      "__index_level_0__: int64\n",
      "-- schema metadata --\n",
      "pandas: '{\"index_columns\": [\"__index_level_0__\"], \"column_indexes\": [{\"na' + 589\n"
     ]
    }
   ],
   "execution_count": 58
  },
  {
   "metadata": {
    "ExecuteTime": {
     "end_time": "2024-12-07T18:05:20.213156Z",
     "start_time": "2024-12-07T18:05:20.133150Z"
    }
   },
   "cell_type": "code",
   "source": [
    "for file in os.listdir(\"../co2/\"):\n",
    "    print(file)\n",
    "\n",
    "    frame = pd.read_parquet(\"../co2/\" + file)\n",
    "    schema = pa.schema([\n",
    "        pa.field(\"timestamp\", pa.timestamp('ms'), nullable=False),\n",
    "        pa.field(\"carbon_intensity\", pa.float64(), nullable=False)\n",
    "    ])\n",
    "\n",
    "    frame = pa.Table.from_pandas(frame, schema=schema, preserve_index=False)\n",
    "    pq.write_table(frame, \"../co2/\" + file)"
   ],
   "id": "fd60bd6283308317",
   "outputs": [
    {
     "name": "stdout",
     "output_type": "stream",
     "text": [
      "NO-2023-06.parquet\n",
      "SK-2023-06.parquet\n",
      "BE-2023-06.parquet\n",
      "PT-2023-06.parquet\n",
      "EU-migration=4h-2023-06.parquet\n",
      "LV-2023-06.parquet\n",
      "MK-2023-06.parquet\n",
      "ES-2023-06.parquet\n",
      "AT-2023-06.parquet\n",
      "EU-migration=1h-2023-06.parquet\n",
      "SE-2023-06.parquet\n",
      "LU-2023-06.parquet\n",
      "CH-2023-06.parquet\n",
      "RS-2023-06.parquet\n",
      "HR-2023-06.parquet\n",
      "BA-2023-06.parquet\n",
      "IT-2023-06.parquet\n",
      "FI-2023-06.parquet\n",
      "NL-2023-06.parquet\n",
      "GR-2023-06.parquet\n",
      "CZ-2023-06.parquet\n",
      "HU-2023-06.parquet\n",
      "DE-2023-06.parquet\n",
      "DK-2023-06.parquet\n",
      "EU-migration=15min-2023-06.parquet\n",
      "RO-2023-06.parquet\n",
      "EU-migration=8h-2023-06.parquet\n",
      "BG-2023-06.parquet\n",
      "SI-2023-06.parquet\n",
      "FR-2023-06.parquet\n",
      "LT-2023-06.parquet\n",
      "EU-migration=24h-2023-06.parquet\n",
      "EE-2023-06.parquet\n",
      "PL-2023-06.parquet\n"
     ]
    }
   ],
   "execution_count": 72
  },
  {
   "metadata": {
    "ExecuteTime": {
     "end_time": "2024-12-07T17:41:06.969666Z",
     "start_time": "2024-12-07T17:41:06.960227Z"
    }
   },
   "cell_type": "code",
   "source": "",
   "id": "c057e7cb75928b26",
   "outputs": [
    {
     "data": {
      "text/plain": [
       "               timestamp  carbon_intensity\n",
       "0    2023-05-31 00:00:00         15.461407\n",
       "1    2023-05-31 00:15:00         12.412120\n",
       "2    2023-05-31 00:30:00         10.518862\n",
       "3    2023-05-31 00:45:00          8.452430\n",
       "4    2023-05-31 01:00:00          8.571025\n",
       "...                  ...               ...\n",
       "2965 2023-06-30 21:15:00          7.950465\n",
       "2966 2023-06-30 21:30:00          8.186405\n",
       "2967 2023-06-30 21:45:00          8.369432\n",
       "2968 2023-06-30 22:00:00          8.298972\n",
       "2969 2023-06-30 22:15:00          8.519124\n",
       "\n",
       "[2970 rows x 2 columns]"
      ],
      "text/html": [
       "<div>\n",
       "<style scoped>\n",
       "    .dataframe tbody tr th:only-of-type {\n",
       "        vertical-align: middle;\n",
       "    }\n",
       "\n",
       "    .dataframe tbody tr th {\n",
       "        vertical-align: top;\n",
       "    }\n",
       "\n",
       "    .dataframe thead th {\n",
       "        text-align: right;\n",
       "    }\n",
       "</style>\n",
       "<table border=\"1\" class=\"dataframe\">\n",
       "  <thead>\n",
       "    <tr style=\"text-align: right;\">\n",
       "      <th></th>\n",
       "      <th>timestamp</th>\n",
       "      <th>carbon_intensity</th>\n",
       "    </tr>\n",
       "  </thead>\n",
       "  <tbody>\n",
       "    <tr>\n",
       "      <th>0</th>\n",
       "      <td>2023-05-31 00:00:00</td>\n",
       "      <td>15.461407</td>\n",
       "    </tr>\n",
       "    <tr>\n",
       "      <th>1</th>\n",
       "      <td>2023-05-31 00:15:00</td>\n",
       "      <td>12.412120</td>\n",
       "    </tr>\n",
       "    <tr>\n",
       "      <th>2</th>\n",
       "      <td>2023-05-31 00:30:00</td>\n",
       "      <td>10.518862</td>\n",
       "    </tr>\n",
       "    <tr>\n",
       "      <th>3</th>\n",
       "      <td>2023-05-31 00:45:00</td>\n",
       "      <td>8.452430</td>\n",
       "    </tr>\n",
       "    <tr>\n",
       "      <th>4</th>\n",
       "      <td>2023-05-31 01:00:00</td>\n",
       "      <td>8.571025</td>\n",
       "    </tr>\n",
       "    <tr>\n",
       "      <th>...</th>\n",
       "      <td>...</td>\n",
       "      <td>...</td>\n",
       "    </tr>\n",
       "    <tr>\n",
       "      <th>2965</th>\n",
       "      <td>2023-06-30 21:15:00</td>\n",
       "      <td>7.950465</td>\n",
       "    </tr>\n",
       "    <tr>\n",
       "      <th>2966</th>\n",
       "      <td>2023-06-30 21:30:00</td>\n",
       "      <td>8.186405</td>\n",
       "    </tr>\n",
       "    <tr>\n",
       "      <th>2967</th>\n",
       "      <td>2023-06-30 21:45:00</td>\n",
       "      <td>8.369432</td>\n",
       "    </tr>\n",
       "    <tr>\n",
       "      <th>2968</th>\n",
       "      <td>2023-06-30 22:00:00</td>\n",
       "      <td>8.298972</td>\n",
       "    </tr>\n",
       "    <tr>\n",
       "      <th>2969</th>\n",
       "      <td>2023-06-30 22:15:00</td>\n",
       "      <td>8.519124</td>\n",
       "    </tr>\n",
       "  </tbody>\n",
       "</table>\n",
       "<p>2970 rows × 2 columns</p>\n",
       "</div>"
      ]
     },
     "execution_count": 62,
     "metadata": {},
     "output_type": "execute_result"
    }
   ],
   "execution_count": 62
  },
  {
   "metadata": {
    "ExecuteTime": {
     "end_time": "2024-12-07T17:16:17.091071Z",
     "start_time": "2024-12-07T17:16:17.003064Z"
    }
   },
   "cell_type": "code",
   "source": [
    "# make all the co2 traces match the schema for the timestamp\n",
    "schema = pa.schema([\n",
    "    pa.field(\"timestamp\", pa.timestamp('ms'), nullable=False),\n",
    "    pa.field(\"carbon_intensity\", pa.float64(), nullable=False)\n",
    "])\n",
    "\n",
    "for file in os.listdir(\"../co2\"):\n",
    "    co2 = pd.read_parquet(f\"../co2/{file}\")\n",
    "\n",
    "    # Print column names for debugging (you can remove this line once confirmed)\n",
    "    print(co2.columns)\n",
    "\n",
    "    # Drop the unwanted '__index_level_0__' column if it exists\n",
    "    if '__index_level_0__' in co2.columns:\n",
    "        co2.drop(columns=['__index_level_0__'], inplace=True)\n",
    "\n",
    "    # Convert DataFrame to PyArrow Table with the specified schema\n",
    "    table = pa.Table.from_pandas(co2, schema=schema, preserve_index=False)\n",
    "\n",
    "    # Write the table to a Parquet file\n",
    "    pq.write_table(table, f\"../co2/{file}\")"
   ],
   "id": "340995e34adc69a7",
   "outputs": [
    {
     "name": "stdout",
     "output_type": "stream",
     "text": [
      "Index(['timestamp', 'carbon_intensity'], dtype='object')\n",
      "Index(['timestamp', 'carbon_intensity'], dtype='object')\n",
      "Index(['timestamp', 'carbon_intensity'], dtype='object')\n"
     ]
    },
    {
     "ename": "ArrowInvalid",
     "evalue": "Could not open Parquet input source '<Buffer>': Parquet magic bytes not found in footer. Either the file is corrupted or this is not a parquet file.",
     "output_type": "error",
     "traceback": [
      "\u001B[0;31m---------------------------------------------------------------------------\u001B[0m",
      "\u001B[0;31mArrowInvalid\u001B[0m                              Traceback (most recent call last)",
      "Cell \u001B[0;32mIn[53], line 8\u001B[0m\n\u001B[1;32m      2\u001B[0m schema \u001B[38;5;241m=\u001B[39m pa\u001B[38;5;241m.\u001B[39mschema([\n\u001B[1;32m      3\u001B[0m     pa\u001B[38;5;241m.\u001B[39mfield(\u001B[38;5;124m\"\u001B[39m\u001B[38;5;124mtimestamp\u001B[39m\u001B[38;5;124m\"\u001B[39m, pa\u001B[38;5;241m.\u001B[39mtimestamp(\u001B[38;5;124m'\u001B[39m\u001B[38;5;124mms\u001B[39m\u001B[38;5;124m'\u001B[39m), nullable\u001B[38;5;241m=\u001B[39m\u001B[38;5;28;01mFalse\u001B[39;00m),\n\u001B[1;32m      4\u001B[0m     pa\u001B[38;5;241m.\u001B[39mfield(\u001B[38;5;124m\"\u001B[39m\u001B[38;5;124mcarbon_intensity\u001B[39m\u001B[38;5;124m\"\u001B[39m, pa\u001B[38;5;241m.\u001B[39mfloat64(), nullable\u001B[38;5;241m=\u001B[39m\u001B[38;5;28;01mFalse\u001B[39;00m)\n\u001B[1;32m      5\u001B[0m ])\n\u001B[1;32m      7\u001B[0m \u001B[38;5;28;01mfor\u001B[39;00m file \u001B[38;5;129;01min\u001B[39;00m os\u001B[38;5;241m.\u001B[39mlistdir(\u001B[38;5;124m\"\u001B[39m\u001B[38;5;124m../co2\u001B[39m\u001B[38;5;124m\"\u001B[39m):\n\u001B[0;32m----> 8\u001B[0m     co2 \u001B[38;5;241m=\u001B[39m \u001B[43mpd\u001B[49m\u001B[38;5;241;43m.\u001B[39;49m\u001B[43mread_parquet\u001B[49m\u001B[43m(\u001B[49m\u001B[38;5;124;43mf\u001B[39;49m\u001B[38;5;124;43m\"\u001B[39;49m\u001B[38;5;124;43m../co2/\u001B[39;49m\u001B[38;5;132;43;01m{\u001B[39;49;00m\u001B[43mfile\u001B[49m\u001B[38;5;132;43;01m}\u001B[39;49;00m\u001B[38;5;124;43m\"\u001B[39;49m\u001B[43m)\u001B[49m\n\u001B[1;32m     10\u001B[0m     \u001B[38;5;66;03m# Print column names for debugging (you can remove this line once confirmed)\u001B[39;00m\n\u001B[1;32m     11\u001B[0m     \u001B[38;5;28mprint\u001B[39m(co2\u001B[38;5;241m.\u001B[39mcolumns)\n",
      "File \u001B[0;32m/Library/Frameworks/Python.framework/Versions/3.10/lib/python3.10/site-packages/pandas/io/parquet.py:667\u001B[0m, in \u001B[0;36mread_parquet\u001B[0;34m(path, engine, columns, storage_options, use_nullable_dtypes, dtype_backend, filesystem, filters, **kwargs)\u001B[0m\n\u001B[1;32m    664\u001B[0m     use_nullable_dtypes \u001B[38;5;241m=\u001B[39m \u001B[38;5;28;01mFalse\u001B[39;00m\n\u001B[1;32m    665\u001B[0m check_dtype_backend(dtype_backend)\n\u001B[0;32m--> 667\u001B[0m \u001B[38;5;28;01mreturn\u001B[39;00m \u001B[43mimpl\u001B[49m\u001B[38;5;241;43m.\u001B[39;49m\u001B[43mread\u001B[49m\u001B[43m(\u001B[49m\n\u001B[1;32m    668\u001B[0m \u001B[43m    \u001B[49m\u001B[43mpath\u001B[49m\u001B[43m,\u001B[49m\n\u001B[1;32m    669\u001B[0m \u001B[43m    \u001B[49m\u001B[43mcolumns\u001B[49m\u001B[38;5;241;43m=\u001B[39;49m\u001B[43mcolumns\u001B[49m\u001B[43m,\u001B[49m\n\u001B[1;32m    670\u001B[0m \u001B[43m    \u001B[49m\u001B[43mfilters\u001B[49m\u001B[38;5;241;43m=\u001B[39;49m\u001B[43mfilters\u001B[49m\u001B[43m,\u001B[49m\n\u001B[1;32m    671\u001B[0m \u001B[43m    \u001B[49m\u001B[43mstorage_options\u001B[49m\u001B[38;5;241;43m=\u001B[39;49m\u001B[43mstorage_options\u001B[49m\u001B[43m,\u001B[49m\n\u001B[1;32m    672\u001B[0m \u001B[43m    \u001B[49m\u001B[43muse_nullable_dtypes\u001B[49m\u001B[38;5;241;43m=\u001B[39;49m\u001B[43muse_nullable_dtypes\u001B[49m\u001B[43m,\u001B[49m\n\u001B[1;32m    673\u001B[0m \u001B[43m    \u001B[49m\u001B[43mdtype_backend\u001B[49m\u001B[38;5;241;43m=\u001B[39;49m\u001B[43mdtype_backend\u001B[49m\u001B[43m,\u001B[49m\n\u001B[1;32m    674\u001B[0m \u001B[43m    \u001B[49m\u001B[43mfilesystem\u001B[49m\u001B[38;5;241;43m=\u001B[39;49m\u001B[43mfilesystem\u001B[49m\u001B[43m,\u001B[49m\n\u001B[1;32m    675\u001B[0m \u001B[43m    \u001B[49m\u001B[38;5;241;43m*\u001B[39;49m\u001B[38;5;241;43m*\u001B[39;49m\u001B[43mkwargs\u001B[49m\u001B[43m,\u001B[49m\n\u001B[1;32m    676\u001B[0m \u001B[43m\u001B[49m\u001B[43m)\u001B[49m\n",
      "File \u001B[0;32m/Library/Frameworks/Python.framework/Versions/3.10/lib/python3.10/site-packages/pandas/io/parquet.py:274\u001B[0m, in \u001B[0;36mPyArrowImpl.read\u001B[0;34m(self, path, columns, filters, use_nullable_dtypes, dtype_backend, storage_options, filesystem, **kwargs)\u001B[0m\n\u001B[1;32m    267\u001B[0m path_or_handle, handles, filesystem \u001B[38;5;241m=\u001B[39m _get_path_or_handle(\n\u001B[1;32m    268\u001B[0m     path,\n\u001B[1;32m    269\u001B[0m     filesystem,\n\u001B[1;32m    270\u001B[0m     storage_options\u001B[38;5;241m=\u001B[39mstorage_options,\n\u001B[1;32m    271\u001B[0m     mode\u001B[38;5;241m=\u001B[39m\u001B[38;5;124m\"\u001B[39m\u001B[38;5;124mrb\u001B[39m\u001B[38;5;124m\"\u001B[39m,\n\u001B[1;32m    272\u001B[0m )\n\u001B[1;32m    273\u001B[0m \u001B[38;5;28;01mtry\u001B[39;00m:\n\u001B[0;32m--> 274\u001B[0m     pa_table \u001B[38;5;241m=\u001B[39m \u001B[38;5;28;43mself\u001B[39;49m\u001B[38;5;241;43m.\u001B[39;49m\u001B[43mapi\u001B[49m\u001B[38;5;241;43m.\u001B[39;49m\u001B[43mparquet\u001B[49m\u001B[38;5;241;43m.\u001B[39;49m\u001B[43mread_table\u001B[49m\u001B[43m(\u001B[49m\n\u001B[1;32m    275\u001B[0m \u001B[43m        \u001B[49m\u001B[43mpath_or_handle\u001B[49m\u001B[43m,\u001B[49m\n\u001B[1;32m    276\u001B[0m \u001B[43m        \u001B[49m\u001B[43mcolumns\u001B[49m\u001B[38;5;241;43m=\u001B[39;49m\u001B[43mcolumns\u001B[49m\u001B[43m,\u001B[49m\n\u001B[1;32m    277\u001B[0m \u001B[43m        \u001B[49m\u001B[43mfilesystem\u001B[49m\u001B[38;5;241;43m=\u001B[39;49m\u001B[43mfilesystem\u001B[49m\u001B[43m,\u001B[49m\n\u001B[1;32m    278\u001B[0m \u001B[43m        \u001B[49m\u001B[43mfilters\u001B[49m\u001B[38;5;241;43m=\u001B[39;49m\u001B[43mfilters\u001B[49m\u001B[43m,\u001B[49m\n\u001B[1;32m    279\u001B[0m \u001B[43m        \u001B[49m\u001B[38;5;241;43m*\u001B[39;49m\u001B[38;5;241;43m*\u001B[39;49m\u001B[43mkwargs\u001B[49m\u001B[43m,\u001B[49m\n\u001B[1;32m    280\u001B[0m \u001B[43m    \u001B[49m\u001B[43m)\u001B[49m\n\u001B[1;32m    281\u001B[0m     result \u001B[38;5;241m=\u001B[39m pa_table\u001B[38;5;241m.\u001B[39mto_pandas(\u001B[38;5;241m*\u001B[39m\u001B[38;5;241m*\u001B[39mto_pandas_kwargs)\n\u001B[1;32m    283\u001B[0m     \u001B[38;5;28;01mif\u001B[39;00m manager \u001B[38;5;241m==\u001B[39m \u001B[38;5;124m\"\u001B[39m\u001B[38;5;124marray\u001B[39m\u001B[38;5;124m\"\u001B[39m:\n",
      "File \u001B[0;32m/Library/Frameworks/Python.framework/Versions/3.10/lib/python3.10/site-packages/pyarrow/parquet/core.py:1762\u001B[0m, in \u001B[0;36mread_table\u001B[0;34m(source, columns, use_threads, schema, use_pandas_metadata, read_dictionary, memory_map, buffer_size, partitioning, filesystem, filters, use_legacy_dataset, ignore_prefixes, pre_buffer, coerce_int96_timestamp_unit, decryption_properties, thrift_string_size_limit, thrift_container_size_limit, page_checksum_verification)\u001B[0m\n\u001B[1;32m   1756\u001B[0m     warnings\u001B[38;5;241m.\u001B[39mwarn(\n\u001B[1;32m   1757\u001B[0m         \u001B[38;5;124m\"\u001B[39m\u001B[38;5;124mPassing \u001B[39m\u001B[38;5;124m'\u001B[39m\u001B[38;5;124muse_legacy_dataset\u001B[39m\u001B[38;5;124m'\u001B[39m\u001B[38;5;124m is deprecated as of pyarrow 15.0.0 \u001B[39m\u001B[38;5;124m\"\u001B[39m\n\u001B[1;32m   1758\u001B[0m         \u001B[38;5;124m\"\u001B[39m\u001B[38;5;124mand will be removed in a future version.\u001B[39m\u001B[38;5;124m\"\u001B[39m,\n\u001B[1;32m   1759\u001B[0m         \u001B[38;5;167;01mFutureWarning\u001B[39;00m, stacklevel\u001B[38;5;241m=\u001B[39m\u001B[38;5;241m2\u001B[39m)\n\u001B[1;32m   1761\u001B[0m \u001B[38;5;28;01mtry\u001B[39;00m:\n\u001B[0;32m-> 1762\u001B[0m     dataset \u001B[38;5;241m=\u001B[39m \u001B[43mParquetDataset\u001B[49m\u001B[43m(\u001B[49m\n\u001B[1;32m   1763\u001B[0m \u001B[43m        \u001B[49m\u001B[43msource\u001B[49m\u001B[43m,\u001B[49m\n\u001B[1;32m   1764\u001B[0m \u001B[43m        \u001B[49m\u001B[43mschema\u001B[49m\u001B[38;5;241;43m=\u001B[39;49m\u001B[43mschema\u001B[49m\u001B[43m,\u001B[49m\n\u001B[1;32m   1765\u001B[0m \u001B[43m        \u001B[49m\u001B[43mfilesystem\u001B[49m\u001B[38;5;241;43m=\u001B[39;49m\u001B[43mfilesystem\u001B[49m\u001B[43m,\u001B[49m\n\u001B[1;32m   1766\u001B[0m \u001B[43m        \u001B[49m\u001B[43mpartitioning\u001B[49m\u001B[38;5;241;43m=\u001B[39;49m\u001B[43mpartitioning\u001B[49m\u001B[43m,\u001B[49m\n\u001B[1;32m   1767\u001B[0m \u001B[43m        \u001B[49m\u001B[43mmemory_map\u001B[49m\u001B[38;5;241;43m=\u001B[39;49m\u001B[43mmemory_map\u001B[49m\u001B[43m,\u001B[49m\n\u001B[1;32m   1768\u001B[0m \u001B[43m        \u001B[49m\u001B[43mread_dictionary\u001B[49m\u001B[38;5;241;43m=\u001B[39;49m\u001B[43mread_dictionary\u001B[49m\u001B[43m,\u001B[49m\n\u001B[1;32m   1769\u001B[0m \u001B[43m        \u001B[49m\u001B[43mbuffer_size\u001B[49m\u001B[38;5;241;43m=\u001B[39;49m\u001B[43mbuffer_size\u001B[49m\u001B[43m,\u001B[49m\n\u001B[1;32m   1770\u001B[0m \u001B[43m        \u001B[49m\u001B[43mfilters\u001B[49m\u001B[38;5;241;43m=\u001B[39;49m\u001B[43mfilters\u001B[49m\u001B[43m,\u001B[49m\n\u001B[1;32m   1771\u001B[0m \u001B[43m        \u001B[49m\u001B[43mignore_prefixes\u001B[49m\u001B[38;5;241;43m=\u001B[39;49m\u001B[43mignore_prefixes\u001B[49m\u001B[43m,\u001B[49m\n\u001B[1;32m   1772\u001B[0m \u001B[43m        \u001B[49m\u001B[43mpre_buffer\u001B[49m\u001B[38;5;241;43m=\u001B[39;49m\u001B[43mpre_buffer\u001B[49m\u001B[43m,\u001B[49m\n\u001B[1;32m   1773\u001B[0m \u001B[43m        \u001B[49m\u001B[43mcoerce_int96_timestamp_unit\u001B[49m\u001B[38;5;241;43m=\u001B[39;49m\u001B[43mcoerce_int96_timestamp_unit\u001B[49m\u001B[43m,\u001B[49m\n\u001B[1;32m   1774\u001B[0m \u001B[43m        \u001B[49m\u001B[43mthrift_string_size_limit\u001B[49m\u001B[38;5;241;43m=\u001B[39;49m\u001B[43mthrift_string_size_limit\u001B[49m\u001B[43m,\u001B[49m\n\u001B[1;32m   1775\u001B[0m \u001B[43m        \u001B[49m\u001B[43mthrift_container_size_limit\u001B[49m\u001B[38;5;241;43m=\u001B[39;49m\u001B[43mthrift_container_size_limit\u001B[49m\u001B[43m,\u001B[49m\n\u001B[1;32m   1776\u001B[0m \u001B[43m        \u001B[49m\u001B[43mpage_checksum_verification\u001B[49m\u001B[38;5;241;43m=\u001B[39;49m\u001B[43mpage_checksum_verification\u001B[49m\u001B[43m,\u001B[49m\n\u001B[1;32m   1777\u001B[0m \u001B[43m    \u001B[49m\u001B[43m)\u001B[49m\n\u001B[1;32m   1778\u001B[0m \u001B[38;5;28;01mexcept\u001B[39;00m \u001B[38;5;167;01mImportError\u001B[39;00m:\n\u001B[1;32m   1779\u001B[0m     \u001B[38;5;66;03m# fall back on ParquetFile for simple cases when pyarrow.dataset\u001B[39;00m\n\u001B[1;32m   1780\u001B[0m     \u001B[38;5;66;03m# module is not available\u001B[39;00m\n\u001B[1;32m   1781\u001B[0m     \u001B[38;5;28;01mif\u001B[39;00m filters \u001B[38;5;129;01mis\u001B[39;00m \u001B[38;5;129;01mnot\u001B[39;00m \u001B[38;5;28;01mNone\u001B[39;00m:\n",
      "File \u001B[0;32m/Library/Frameworks/Python.framework/Versions/3.10/lib/python3.10/site-packages/pyarrow/parquet/core.py:1329\u001B[0m, in \u001B[0;36mParquetDataset.__init__\u001B[0;34m(self, path_or_paths, filesystem, schema, filters, read_dictionary, memory_map, buffer_size, partitioning, ignore_prefixes, pre_buffer, coerce_int96_timestamp_unit, decryption_properties, thrift_string_size_limit, thrift_container_size_limit, page_checksum_verification, use_legacy_dataset)\u001B[0m\n\u001B[1;32m   1325\u001B[0m \u001B[38;5;28;01mif\u001B[39;00m single_file \u001B[38;5;129;01mis\u001B[39;00m \u001B[38;5;129;01mnot\u001B[39;00m \u001B[38;5;28;01mNone\u001B[39;00m:\n\u001B[1;32m   1326\u001B[0m     fragment \u001B[38;5;241m=\u001B[39m parquet_format\u001B[38;5;241m.\u001B[39mmake_fragment(single_file, filesystem)\n\u001B[1;32m   1328\u001B[0m     \u001B[38;5;28mself\u001B[39m\u001B[38;5;241m.\u001B[39m_dataset \u001B[38;5;241m=\u001B[39m ds\u001B[38;5;241m.\u001B[39mFileSystemDataset(\n\u001B[0;32m-> 1329\u001B[0m         [fragment], schema\u001B[38;5;241m=\u001B[39mschema \u001B[38;5;129;01mor\u001B[39;00m \u001B[43mfragment\u001B[49m\u001B[38;5;241;43m.\u001B[39;49m\u001B[43mphysical_schema\u001B[49m,\n\u001B[1;32m   1330\u001B[0m         \u001B[38;5;28mformat\u001B[39m\u001B[38;5;241m=\u001B[39mparquet_format,\n\u001B[1;32m   1331\u001B[0m         filesystem\u001B[38;5;241m=\u001B[39mfragment\u001B[38;5;241m.\u001B[39mfilesystem\n\u001B[1;32m   1332\u001B[0m     )\n\u001B[1;32m   1333\u001B[0m     \u001B[38;5;28;01mreturn\u001B[39;00m\n\u001B[1;32m   1335\u001B[0m \u001B[38;5;66;03m# check partitioning to enable dictionary encoding\u001B[39;00m\n",
      "File \u001B[0;32m/Library/Frameworks/Python.framework/Versions/3.10/lib/python3.10/site-packages/pyarrow/_dataset.pyx:1431\u001B[0m, in \u001B[0;36mpyarrow._dataset.Fragment.physical_schema.__get__\u001B[0;34m()\u001B[0m\n",
      "File \u001B[0;32m/Library/Frameworks/Python.framework/Versions/3.10/lib/python3.10/site-packages/pyarrow/error.pxi:154\u001B[0m, in \u001B[0;36mpyarrow.lib.pyarrow_internal_check_status\u001B[0;34m()\u001B[0m\n",
      "File \u001B[0;32m/Library/Frameworks/Python.framework/Versions/3.10/lib/python3.10/site-packages/pyarrow/error.pxi:91\u001B[0m, in \u001B[0;36mpyarrow.lib.check_status\u001B[0;34m()\u001B[0m\n",
      "\u001B[0;31mArrowInvalid\u001B[0m: Could not open Parquet input source '<Buffer>': Parquet magic bytes not found in footer. Either the file is corrupted or this is not a parquet file."
     ]
    }
   ],
   "execution_count": 53
  }
 ],
 "metadata": {
  "kernelspec": {
   "display_name": "Python 3",
   "language": "python",
   "name": "python3"
  },
  "language_info": {
   "codemirror_mode": {
    "name": "ipython",
    "version": 2
   },
   "file_extension": ".py",
   "mimetype": "text/x-python",
   "name": "python",
   "nbconvert_exporter": "python",
   "pygments_lexer": "ipython2",
   "version": "2.7.6"
  }
 },
 "nbformat": 4,
 "nbformat_minor": 5
}
