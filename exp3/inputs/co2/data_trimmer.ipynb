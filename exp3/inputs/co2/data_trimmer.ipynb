{
 "cells": [
  {
   "cell_type": "code",
   "id": "initial_id",
   "metadata": {
    "collapsed": true,
    "ExecuteTime": {
     "end_time": "2024-12-03T17:41:06.776677Z",
     "start_time": "2024-12-03T17:41:06.483748Z"
    }
   },
   "source": [
    "import pandas as pd\n",
    "import numpy as np"
   ],
   "outputs": [],
   "execution_count": 1
  },
  {
   "metadata": {
    "ExecuteTime": {
     "end_time": "2024-12-03T17:41:06.842552Z",
     "start_time": "2024-12-03T17:41:06.785705Z"
    }
   },
   "cell_type": "code",
   "source": [
    "at_parquet = pd.read_parquet('./AT-2023_1-2023_12.parquet')\n",
    "at_parquet"
   ],
   "id": "ff32c3eefef6192e",
   "outputs": [
    {
     "data": {
      "text/plain": [
       "                      timestamp  carbon_intensity\n",
       "0     2023-01-01 00:00:00+01:00         14.934701\n",
       "1     2023-01-01 00:15:00+01:00         15.042630\n",
       "2     2023-01-01 00:30:00+01:00         15.130440\n",
       "3     2023-01-01 00:45:00+01:00         15.256120\n",
       "4     2023-01-01 01:00:00+01:00         15.398627\n",
       "...                         ...               ...\n",
       "34939 2023-12-30 22:45:00+01:00          7.845513\n",
       "34940 2023-12-30 23:00:00+01:00          8.378335\n",
       "34941 2023-12-30 23:15:00+01:00          8.618783\n",
       "34942 2023-12-30 23:30:00+01:00          8.906850\n",
       "34943 2023-12-30 23:45:00+01:00          9.162724\n",
       "\n",
       "[34944 rows x 2 columns]"
      ],
      "text/html": [
       "<div>\n",
       "<style scoped>\n",
       "    .dataframe tbody tr th:only-of-type {\n",
       "        vertical-align: middle;\n",
       "    }\n",
       "\n",
       "    .dataframe tbody tr th {\n",
       "        vertical-align: top;\n",
       "    }\n",
       "\n",
       "    .dataframe thead th {\n",
       "        text-align: right;\n",
       "    }\n",
       "</style>\n",
       "<table border=\"1\" class=\"dataframe\">\n",
       "  <thead>\n",
       "    <tr style=\"text-align: right;\">\n",
       "      <th></th>\n",
       "      <th>timestamp</th>\n",
       "      <th>carbon_intensity</th>\n",
       "    </tr>\n",
       "  </thead>\n",
       "  <tbody>\n",
       "    <tr>\n",
       "      <th>0</th>\n",
       "      <td>2023-01-01 00:00:00+01:00</td>\n",
       "      <td>14.934701</td>\n",
       "    </tr>\n",
       "    <tr>\n",
       "      <th>1</th>\n",
       "      <td>2023-01-01 00:15:00+01:00</td>\n",
       "      <td>15.042630</td>\n",
       "    </tr>\n",
       "    <tr>\n",
       "      <th>2</th>\n",
       "      <td>2023-01-01 00:30:00+01:00</td>\n",
       "      <td>15.130440</td>\n",
       "    </tr>\n",
       "    <tr>\n",
       "      <th>3</th>\n",
       "      <td>2023-01-01 00:45:00+01:00</td>\n",
       "      <td>15.256120</td>\n",
       "    </tr>\n",
       "    <tr>\n",
       "      <th>4</th>\n",
       "      <td>2023-01-01 01:00:00+01:00</td>\n",
       "      <td>15.398627</td>\n",
       "    </tr>\n",
       "    <tr>\n",
       "      <th>...</th>\n",
       "      <td>...</td>\n",
       "      <td>...</td>\n",
       "    </tr>\n",
       "    <tr>\n",
       "      <th>34939</th>\n",
       "      <td>2023-12-30 22:45:00+01:00</td>\n",
       "      <td>7.845513</td>\n",
       "    </tr>\n",
       "    <tr>\n",
       "      <th>34940</th>\n",
       "      <td>2023-12-30 23:00:00+01:00</td>\n",
       "      <td>8.378335</td>\n",
       "    </tr>\n",
       "    <tr>\n",
       "      <th>34941</th>\n",
       "      <td>2023-12-30 23:15:00+01:00</td>\n",
       "      <td>8.618783</td>\n",
       "    </tr>\n",
       "    <tr>\n",
       "      <th>34942</th>\n",
       "      <td>2023-12-30 23:30:00+01:00</td>\n",
       "      <td>8.906850</td>\n",
       "    </tr>\n",
       "    <tr>\n",
       "      <th>34943</th>\n",
       "      <td>2023-12-30 23:45:00+01:00</td>\n",
       "      <td>9.162724</td>\n",
       "    </tr>\n",
       "  </tbody>\n",
       "</table>\n",
       "<p>34944 rows × 2 columns</p>\n",
       "</div>"
      ]
     },
     "execution_count": 2,
     "metadata": {},
     "output_type": "execute_result"
    }
   ],
   "execution_count": 2
  },
  {
   "metadata": {},
   "cell_type": "code",
   "outputs": [],
   "execution_count": null,
   "source": "",
   "id": "f7f0b618746215c4"
  }
 ],
 "metadata": {
  "kernelspec": {
   "display_name": "Python 3",
   "language": "python",
   "name": "python3"
  },
  "language_info": {
   "codemirror_mode": {
    "name": "ipython",
    "version": 2
   },
   "file_extension": ".py",
   "mimetype": "text/x-python",
   "name": "python",
   "nbconvert_exporter": "python",
   "pygments_lexer": "ipython2",
   "version": "2.7.6"
  }
 },
 "nbformat": 4,
 "nbformat_minor": 5
}
