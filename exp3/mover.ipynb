{
 "cells": [
  {
   "cell_type": "code",
   "id": "initial_id",
   "metadata": {
    "collapsed": true,
    "ExecuteTime": {
     "end_time": "2024-12-07T17:55:16.111015Z",
     "start_time": "2024-12-07T17:55:16.107002Z"
    }
   },
   "source": "import os",
   "outputs": [],
   "execution_count": 1
  },
  {
   "metadata": {
    "ExecuteTime": {
     "end_time": "2024-12-07T17:58:43.697491Z",
     "start_time": "2024-12-07T17:58:43.694435Z"
    }
   },
   "cell_type": "code",
   "source": [
    "# move files from outputs/raw-output/metamodel/seed=0/carbon_emission to metamodels/{name_of_country}.parquet\n",
    "def move(code):\n",
    "    os.rename(\"outputs/raw-output/metamodel/seed=0/carbon_emission.parquet\", f\"metamodels/{code}.parquet\")"
   ],
   "id": "1a7fe0f5bf96a37a",
   "outputs": [],
   "execution_count": 4
  },
  {
   "metadata": {
    "ExecuteTime": {
     "end_time": "2024-12-07T19:13:50.855321Z",
     "start_time": "2024-12-07T19:13:50.848774Z"
    }
   },
   "cell_type": "code",
   "source": "move(\"SK\")",
   "id": "4bdae06f7fe3cf7f",
   "outputs": [],
   "execution_count": 38
  },
  {
   "metadata": {},
   "cell_type": "code",
   "outputs": [],
   "execution_count": null,
   "source": "",
   "id": "772017cf5ed677b4"
  }
 ],
 "metadata": {
  "kernelspec": {
   "display_name": "Python 3",
   "language": "python",
   "name": "python3"
  },
  "language_info": {
   "codemirror_mode": {
    "name": "ipython",
    "version": 2
   },
   "file_extension": ".py",
   "mimetype": "text/x-python",
   "name": "python",
   "nbconvert_exporter": "python",
   "pygments_lexer": "ipython2",
   "version": "2.7.6"
  }
 },
 "nbformat": 4,
 "nbformat_minor": 5
}
