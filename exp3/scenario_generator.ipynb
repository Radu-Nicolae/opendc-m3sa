{
 "cells": [
  {
   "cell_type": "code",
   "id": "initial_id",
   "metadata": {
    "collapsed": true,
    "ExecuteTime": {
     "end_time": "2024-12-04T19:23:56.227696Z",
     "start_time": "2024-12-04T19:23:55.304580Z"
    }
   },
   "source": [
    "import numpy as np\n",
    "import pandas as pd\n",
    "import os\n",
    "import json"
   ],
   "outputs": [],
   "execution_count": 2
  },
  {
   "metadata": {
    "ExecuteTime": {
     "end_time": "2024-12-04T19:23:57.903219Z",
     "start_time": "2024-12-04T19:23:57.900369Z"
    }
   },
   "cell_type": "code",
   "source": "print(os.getcwd())",
   "id": "20ec4f68807222ae",
   "outputs": [
    {
     "name": "stdout",
     "output_type": "stream",
     "text": [
      "/Users/raz/atlarge/opendc/exp3\n"
     ]
    }
   ],
   "execution_count": 3
  },
  {
   "metadata": {
    "ExecuteTime": {
     "end_time": "2024-12-04T19:23:58.782049Z",
     "start_time": "2024-12-04T19:23:58.778352Z"
    }
   },
   "cell_type": "code",
   "source": [
    "# for all the files in co2, read the first two characters of the name of the file and store them in a list\n",
    "\n",
    "country_codes = []\n",
    "for file in os.listdir('inputs/co2'):\n",
    "    country_codes.append(file[:2].lower())\n",
    "\n",
    "# sort alphabetically\n",
    "country_codes.sort()"
   ],
   "id": "2175a8ef16deb862",
   "outputs": [],
   "execution_count": 4
  },
  {
   "metadata": {
    "ExecuteTime": {
     "end_time": "2024-12-04T19:32:53.972448Z",
     "start_time": "2024-12-04T19:32:53.952466Z"
    }
   },
   "cell_type": "code",
   "source": [
    "def get_scenario_code(country_code):\n",
    "    code = '''{\n",
    "    \"name\": \"outputs/\",\n",
    "    \"topologies\": [\n",
    "        {\n",
    "            \"pathToFile\": \"exp3/inputs/topologies/topology_sqrt.json\"\n",
    "        },\n",
    "        {\n",
    "            \"pathToFile\": \"exp3/inputs/topologies/topology_linear.json\"\n",
    "        },\n",
    "        {\n",
    "            \"pathToFile\": \"exp3/inputs/topologies/topology_square.json\"\n",
    "        },\n",
    "        {\n",
    "            \"pathToFile\": \"exp3/inputs/topologies/topology_cubic.json\"\n",
    "        },\n",
    "        {\n",
    "            \"pathToFile\": \"exp3/inputs/topologies/topology_mse.json\"\n",
    "        },\n",
    "        {\n",
    "            \"pathToFile\": \"exp3/inputs/topologies/topology_asymptotic1.json\"\n",
    "        },\n",
    "        {\n",
    "            \"pathToFile\": \"exp3/inputs/topologies/topology_asymptotic2.json\"\n",
    "        },\n",
    "        {\n",
    "            \"pathToFile\": \"exp3/inputs/topologies/topology_asymptotic3.json\"\n",
    "        },\n",
    "        {\n",
    "            \"pathToFile\": \"exp3/inputs/topologies/topology_sqrt_off.json\"\n",
    "        },\n",
    "        {\n",
    "            \"pathToFile\": \"exp3/inputs/topologies/topology_linear_off.json\"\n",
    "        },\n",
    "        {\n",
    "            \"pathToFile\": \"exp3/inputs/topologies/topology_square_off.json\"\n",
    "        },\n",
    "        {\n",
    "            \"pathToFile\": \"exp3/inputs/topologies/topology_cubic_off.json\"\n",
    "        },\n",
    "        {\n",
    "            \"pathToFile\": \"exp3/inputs/topologies/topology_mse_off.json\"\n",
    "        },\n",
    "        {\n",
    "            \"pathToFile\": \"exp3/inputs/topologies/topology_asymptotic1_off.json\"\n",
    "        },\n",
    "        {\n",
    "            \"pathToFile\": \"exp3/inputs/topologies/topology_asymptotic2_off.json\"\n",
    "        },\n",
    "        {\n",
    "            \"pathToFile\": \"exp3/inputs/topologies/topology_asymptotic3_off.json\"\n",
    "        }\n",
    "    ],\n",
    "    \"workloads\": [\n",
    "        {\n",
    "            \"pathToFile\": \"exp3/inputs/marconi-22\",\n",
    "            \"type\": \"ComputeWorkload\"\n",
    "        }\n",
    "    ],\n",
    "    \"carbonTracePaths\": [\n",
    "        \"exp3/inputs/co2/AT-2023-06.parquet\"\n",
    "    ],\n",
    "    \"allocationPolicies\": [\n",
    "        {\n",
    "            \"policyType\": \"Mem\"\n",
    "        }\n",
    "    ],\n",
    "    \"outputFolder\": \"exp3/\",\n",
    "    \"runs\": 1\n",
    "}\n",
    "'''\n",
    "    code = code.replace(\"AT\", country_code)\n",
    "    return code"
   ],
   "id": "4973bf7fefaa80c3",
   "outputs": [],
   "execution_count": 7
  },
  {
   "metadata": {
    "ExecuteTime": {
     "end_time": "2024-12-04T19:33:31.762388Z",
     "start_time": "2024-12-04T19:33:31.742511Z"
    }
   },
   "cell_type": "code",
   "source": [
    "# for each country code, create a scenario file\n",
    "# create a file in the new_scenarios folder with the name scenario_countrycode.json\n",
    "\n",
    "for country_code in country_codes:\n",
    "    with open('inputs/new_scenarios/scenario_' + country_code + '.json', 'w') as f:\n",
    "        f.write(get_scenario_code(country_code))"
   ],
   "id": "4e61c43ca6d1f41a",
   "outputs": [],
   "execution_count": 10
  },
  {
   "metadata": {
    "ExecuteTime": {
     "end_time": "2024-12-03T17:12:57.278983Z",
     "start_time": "2024-12-03T17:12:57.276178Z"
    }
   },
   "cell_type": "code",
   "source": "print(os.getcwd())",
   "id": "cf251e08d3256653",
   "outputs": [
    {
     "name": "stdout",
     "output_type": "stream",
     "text": [
      "/Users/raz/atlarge/opendc/exp3\n"
     ]
    }
   ],
   "execution_count": 6
  },
  {
   "metadata": {
    "ExecuteTime": {
     "end_time": "2024-12-04T19:24:06.163348Z",
     "start_time": "2024-12-04T19:24:06.160604Z"
    }
   },
   "cell_type": "code",
   "source": [
    "def move(country_code):\n",
    "    os.rename('./outputs/raw-output/metamodel/seed=0/carbon_emission.parquet', 'metamodels/metamodel_' + country_code + '.parquet')"
   ],
   "id": "68466d60c3613df6",
   "outputs": [],
   "execution_count": 5
  },
  {
   "metadata": {
    "ExecuteTime": {
     "end_time": "2024-12-04T20:26:20.046956Z",
     "start_time": "2024-12-04T20:26:20.041011Z"
    }
   },
   "cell_type": "code",
   "source": [
    "# run the following command in the terminal to generate the scenarios\n",
    "move(country_code='si')"
   ],
   "id": "b5a80a9436780093",
   "outputs": [],
   "execution_count": 54
  },
  {
   "metadata": {
    "ExecuteTime": {
     "end_time": "2024-12-04T20:27:34.183983Z",
     "start_time": "2024-12-04T20:27:34.178990Z"
    }
   },
   "cell_type": "code",
   "source": "move(country_code='sk')",
   "id": "54689cb6deebf3a2",
   "outputs": [],
   "execution_count": 55
  },
  {
   "metadata": {
    "ExecuteTime": {
     "end_time": "2024-12-04T19:37:03.495798Z",
     "start_time": "2024-12-04T19:37:03.486532Z"
    }
   },
   "cell_type": "code",
   "source": "os.getcwd()",
   "id": "65304734bdb9fadd",
   "outputs": [
    {
     "data": {
      "text/plain": [
       "'/Users/raz/atlarge/opendc/exp3'"
      ]
     },
     "execution_count": 13,
     "metadata": {},
     "output_type": "execute_result"
    }
   ],
   "execution_count": 13
  },
  {
   "metadata": {},
   "cell_type": "code",
   "outputs": [],
   "execution_count": null,
   "source": "",
   "id": "1431f07e26ebd076"
  }
 ],
 "metadata": {
  "kernelspec": {
   "display_name": "Python 3",
   "language": "python",
   "name": "python3"
  },
  "language_info": {
   "codemirror_mode": {
    "name": "ipython",
    "version": 2
   },
   "file_extension": ".py",
   "mimetype": "text/x-python",
   "name": "python",
   "nbconvert_exporter": "python",
   "pygments_lexer": "ipython2",
   "version": "2.7.6"
  }
 },
 "nbformat": 4,
 "nbformat_minor": 5
}
