{
 "cells": [
  {
   "cell_type": "code",
   "id": "initial_id",
   "metadata": {
    "collapsed": true,
    "ExecuteTime": {
     "end_time": "2024-12-03T17:12:37.678691Z",
     "start_time": "2024-12-03T17:12:37.361050Z"
    }
   },
   "source": [
    "import numpy as np\n",
    "import pandas as pd\n",
    "import os\n",
    "import json"
   ],
   "outputs": [],
   "execution_count": 1
  },
  {
   "metadata": {
    "ExecuteTime": {
     "end_time": "2024-12-03T17:12:37.904318Z",
     "start_time": "2024-12-03T17:12:37.901939Z"
    }
   },
   "cell_type": "code",
   "source": "print(os.getcwd())",
   "id": "20ec4f68807222ae",
   "outputs": [
    {
     "name": "stdout",
     "output_type": "stream",
     "text": [
      "/Users/raz/atlarge/opendc/exp3\n"
     ]
    }
   ],
   "execution_count": 2
  },
  {
   "metadata": {
    "ExecuteTime": {
     "end_time": "2024-12-03T17:12:49.752672Z",
     "start_time": "2024-12-03T17:12:49.750452Z"
    }
   },
   "cell_type": "code",
   "source": [
    "# for all the files in co2, read the first two characters of the name of the file and store them in a list\n",
    "\n",
    "country_codes = []\n",
    "for file in os.listdir('inputs/co2'):\n",
    "    country_codes.append(file[:2].lower())\n",
    "\n",
    "# sort alphabetically\n",
    "country_codes.sort()"
   ],
   "id": "2175a8ef16deb862",
   "outputs": [],
   "execution_count": 4
  },
  {
   "metadata": {
    "ExecuteTime": {
     "end_time": "2024-12-03T17:01:36.729807Z",
     "start_time": "2024-12-03T17:01:36.727615Z"
    }
   },
   "cell_type": "code",
   "source": [
    "def get_scenario_code(country_code):\n",
    "    code = '''{\n",
    "    \"name\": \"outputs/\",\n",
    "    \"topologies\": [\n",
    "        {\n",
    "            \"pathToFile\": \"exp3/inputs/topologies/topology_sqrt.json\"\n",
    "        },\n",
    "        {\n",
    "            \"pathToFile\": \"exp3/inputs/topologies/topology_linear.json\"\n",
    "        },\n",
    "        {\n",
    "            \"pathToFile\": \"exp3/inputs/topologies/topology_square.json\"\n",
    "        },\n",
    "        {\n",
    "            \"pathToFile\": \"exp3/inputs/topologies/topology_cubic.json\"\n",
    "        },\n",
    "        {\n",
    "            \"pathToFile\": \"exp3/inputs/topologies/topology_mse.json\"\n",
    "        },\n",
    "        {\n",
    "            \"pathToFile\": \"exp3/inputs/topologies/topology_asymptotic1.json\"\n",
    "        },\n",
    "        {\n",
    "            \"pathToFile\": \"exp3/inputs/topologies/topology_asymptotic2.json\"\n",
    "        },\n",
    "        {\n",
    "            \"pathToFile\": \"exp3/inputs/topologies/topology_asymptotic3.json\"\n",
    "        },\n",
    "        {\n",
    "            \"pathToFile\": \"exp3/inputs/topologies/topology_sqrt_off.json\"\n",
    "        },\n",
    "        {\n",
    "            \"pathToFile\": \"exp3/inputs/topologies/topology_linear_off.json\"\n",
    "        },\n",
    "        {\n",
    "            \"pathToFile\": \"exp3/inputs/topologies/topology_square_off.json\"\n",
    "        },\n",
    "        {\n",
    "            \"pathToFile\": \"exp3/inputs/topologies/topology_cubic_off.json\"\n",
    "        },\n",
    "        {\n",
    "            \"pathToFile\": \"exp3/inputs/topologies/topology_mse_off.json\"\n",
    "        },\n",
    "        {\n",
    "            \"pathToFile\": \"exp3/inputs/topologies/topology_asymptotic1_off.json\"\n",
    "        },\n",
    "        {\n",
    "            \"pathToFile\": \"exp3/inputs/topologies/topology_asymptotic2_off.json\"\n",
    "        },\n",
    "        {\n",
    "            \"pathToFile\": \"exp3/inputs/topologies/topology_asymptotic3_off.json\"\n",
    "        }\n",
    "    ],\n",
    "    \"workloads\": [\n",
    "        {\n",
    "            \"pathToFile\": \"exp3/inputs/marconi-22\",\n",
    "            \"type\": \"ComputeWorkload\"\n",
    "        }\n",
    "    ],\n",
    "    \"carbonTracePaths\": [\n",
    "        \"exp3/inputs/co2/AT-2023_1-2023_12.parquet\"\n",
    "    ],\n",
    "    \"allocationPolicies\": [\n",
    "        {\n",
    "            \"policyType\": \"Mem\"\n",
    "        }\n",
    "    ],\n",
    "    \"outputFolder\": \"exp3/\",\n",
    "    \"runs\": 1\n",
    "}\n",
    "'''\n",
    "    code = code.replace(\"AT\", country_code)\n",
    "    return code"
   ],
   "id": "4973bf7fefaa80c3",
   "outputs": [],
   "execution_count": 4
  },
  {
   "metadata": {
    "ExecuteTime": {
     "end_time": "2024-12-03T17:12:53.843267Z",
     "start_time": "2024-12-03T17:12:53.776503Z"
    }
   },
   "cell_type": "code",
   "source": [
    "# for each country code, create a scenario file\n",
    "# create a file in the new_scenarios folder with the name scenario_countrycode.json\n",
    "\n",
    "for country_code in country_codes:\n",
    "    with open('new_scenarios/scenario_' + country_code + '.json', 'w') as f:\n",
    "        f.write(get_scenario_code(country_code))"
   ],
   "id": "4e61c43ca6d1f41a",
   "outputs": [
    {
     "ename": "FileNotFoundError",
     "evalue": "[Errno 2] No such file or directory: 'new_scenarios/scenario_at.json'",
     "output_type": "error",
     "traceback": [
      "\u001B[0;31m---------------------------------------------------------------------------\u001B[0m",
      "\u001B[0;31mFileNotFoundError\u001B[0m                         Traceback (most recent call last)",
      "Cell \u001B[0;32mIn[5], line 5\u001B[0m\n\u001B[1;32m      1\u001B[0m \u001B[38;5;66;03m# for each country code, create a scenario file\u001B[39;00m\n\u001B[1;32m      2\u001B[0m \u001B[38;5;66;03m# create a file in the new_scenarios folder with the name scenario_countrycode.json\u001B[39;00m\n\u001B[1;32m      4\u001B[0m \u001B[38;5;28;01mfor\u001B[39;00m country_code \u001B[38;5;129;01min\u001B[39;00m country_codes:\n\u001B[0;32m----> 5\u001B[0m     \u001B[38;5;28;01mwith\u001B[39;00m \u001B[38;5;28;43mopen\u001B[39;49m\u001B[43m(\u001B[49m\u001B[38;5;124;43m'\u001B[39;49m\u001B[38;5;124;43mnew_scenarios/scenario_\u001B[39;49m\u001B[38;5;124;43m'\u001B[39;49m\u001B[43m \u001B[49m\u001B[38;5;241;43m+\u001B[39;49m\u001B[43m \u001B[49m\u001B[43mcountry_code\u001B[49m\u001B[43m \u001B[49m\u001B[38;5;241;43m+\u001B[39;49m\u001B[43m \u001B[49m\u001B[38;5;124;43m'\u001B[39;49m\u001B[38;5;124;43m.json\u001B[39;49m\u001B[38;5;124;43m'\u001B[39;49m\u001B[43m,\u001B[49m\u001B[43m \u001B[49m\u001B[38;5;124;43m'\u001B[39;49m\u001B[38;5;124;43mw\u001B[39;49m\u001B[38;5;124;43m'\u001B[39;49m\u001B[43m)\u001B[49m \u001B[38;5;28;01mas\u001B[39;00m f:\n\u001B[1;32m      6\u001B[0m         f\u001B[38;5;241m.\u001B[39mwrite(get_scenario_code(country_code))\n",
      "File \u001B[0;32m/Library/Frameworks/Python.framework/Versions/3.10/lib/python3.10/site-packages/IPython/core/interactiveshell.py:284\u001B[0m, in \u001B[0;36m_modified_open\u001B[0;34m(file, *args, **kwargs)\u001B[0m\n\u001B[1;32m    277\u001B[0m \u001B[38;5;28;01mif\u001B[39;00m file \u001B[38;5;129;01min\u001B[39;00m {\u001B[38;5;241m0\u001B[39m, \u001B[38;5;241m1\u001B[39m, \u001B[38;5;241m2\u001B[39m}:\n\u001B[1;32m    278\u001B[0m     \u001B[38;5;28;01mraise\u001B[39;00m \u001B[38;5;167;01mValueError\u001B[39;00m(\n\u001B[1;32m    279\u001B[0m         \u001B[38;5;124mf\u001B[39m\u001B[38;5;124m\"\u001B[39m\u001B[38;5;124mIPython won\u001B[39m\u001B[38;5;124m'\u001B[39m\u001B[38;5;124mt let you open fd=\u001B[39m\u001B[38;5;132;01m{\u001B[39;00mfile\u001B[38;5;132;01m}\u001B[39;00m\u001B[38;5;124m by default \u001B[39m\u001B[38;5;124m\"\u001B[39m\n\u001B[1;32m    280\u001B[0m         \u001B[38;5;124m\"\u001B[39m\u001B[38;5;124mas it is likely to crash IPython. If you know what you are doing, \u001B[39m\u001B[38;5;124m\"\u001B[39m\n\u001B[1;32m    281\u001B[0m         \u001B[38;5;124m\"\u001B[39m\u001B[38;5;124myou can use builtins\u001B[39m\u001B[38;5;124m'\u001B[39m\u001B[38;5;124m open.\u001B[39m\u001B[38;5;124m\"\u001B[39m\n\u001B[1;32m    282\u001B[0m     )\n\u001B[0;32m--> 284\u001B[0m \u001B[38;5;28;01mreturn\u001B[39;00m \u001B[43mio_open\u001B[49m\u001B[43m(\u001B[49m\u001B[43mfile\u001B[49m\u001B[43m,\u001B[49m\u001B[43m \u001B[49m\u001B[38;5;241;43m*\u001B[39;49m\u001B[43margs\u001B[49m\u001B[43m,\u001B[49m\u001B[43m \u001B[49m\u001B[38;5;241;43m*\u001B[39;49m\u001B[38;5;241;43m*\u001B[39;49m\u001B[43mkwargs\u001B[49m\u001B[43m)\u001B[49m\n",
      "\u001B[0;31mFileNotFoundError\u001B[0m: [Errno 2] No such file or directory: 'new_scenarios/scenario_at.json'"
     ]
    }
   ],
   "execution_count": 5
  },
  {
   "metadata": {
    "ExecuteTime": {
     "end_time": "2024-12-03T17:12:57.278983Z",
     "start_time": "2024-12-03T17:12:57.276178Z"
    }
   },
   "cell_type": "code",
   "source": "print(os.getcwd())",
   "id": "cf251e08d3256653",
   "outputs": [
    {
     "name": "stdout",
     "output_type": "stream",
     "text": [
      "/Users/raz/atlarge/opendc/exp3\n"
     ]
    }
   ],
   "execution_count": 6
  },
  {
   "metadata": {
    "ExecuteTime": {
     "end_time": "2024-12-03T17:18:03.800074Z",
     "start_time": "2024-12-03T17:18:03.797139Z"
    }
   },
   "cell_type": "code",
   "source": [
    "def move(country_code):\n",
    "    os.rename('./outputs/raw-output/metamodel/seed=0/carbon_emission.parquet', 'metamodels/metamodel_' + country_code + '.parquet')"
   ],
   "id": "68466d60c3613df6",
   "outputs": [],
   "execution_count": 15
  },
  {
   "metadata": {
    "ExecuteTime": {
     "end_time": "2024-12-03T17:32:16.269918Z",
     "start_time": "2024-12-03T17:32:16.266121Z"
    }
   },
   "cell_type": "code",
   "source": [
    "# run the following command in the terminal to generate the scenarios\n",
    "move(country_code='fr')"
   ],
   "id": "b5a80a9436780093",
   "outputs": [],
   "execution_count": 25
  },
  {
   "metadata": {},
   "cell_type": "code",
   "outputs": [],
   "execution_count": null,
   "source": "",
   "id": "a8a2f2fbc19be653"
  }
 ],
 "metadata": {
  "kernelspec": {
   "display_name": "Python 3",
   "language": "python",
   "name": "python3"
  },
  "language_info": {
   "codemirror_mode": {
    "name": "ipython",
    "version": 2
   },
   "file_extension": ".py",
   "mimetype": "text/x-python",
   "name": "python",
   "nbconvert_exporter": "python",
   "pygments_lexer": "ipython2",
   "version": "2.7.6"
  }
 },
 "nbformat": 4,
 "nbformat_minor": 5
}
