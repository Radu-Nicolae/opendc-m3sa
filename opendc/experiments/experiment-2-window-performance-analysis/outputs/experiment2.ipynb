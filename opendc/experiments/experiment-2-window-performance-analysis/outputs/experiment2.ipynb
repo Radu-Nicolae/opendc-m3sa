{
 "cells": [
  {
   "cell_type": "markdown",
   "source": [
    "# Experiment 1 - Window Size Performance Analysis"
   ],
   "metadata": {
    "collapsed": false
   },
   "id": "37b98e86528971d3"
  },
  {
   "cell_type": "markdown",
   "source": [
    "## 1. Imports & data loading"
   ],
   "metadata": {
    "collapsed": false
   },
   "id": "2e3e2bf0fe0b12f7"
  },
  {
   "cell_type": "code",
   "outputs": [],
   "source": [
    "import numpy as np\n",
    "import pandas as pd\n",
    "\n",
    "host_data_3s = pd.read_parquet('sample-rate=3s/raw-output/0/seed=0/host.parquet')\n",
    "host_data_30s = pd.read_parquet('sample-rate=30s/raw-output/0/seed=0/host.parquet')\n",
    "host_data_60s = pd.read_parquet('sample-rate=60s/raw-output/0/seed=0/host.parquet')\n",
    "host_data_300s = pd.read_parquet('sample-rate=300s/raw-output/0/seed=0/host.parquet')\n"
   ],
   "metadata": {
    "collapsed": false,
    "ExecuteTime": {
     "end_time": "2024-07-14T14:04:17.171691Z",
     "start_time": "2024-07-14T14:04:15.532896Z"
    }
   },
   "id": "b4779b3f7b430854",
   "execution_count": 14
  },
  {
   "cell_type": "code",
   "outputs": [],
   "source": [
    "host_data_3s = host_data_3s.select_dtypes(include=[np.number]).groupby('timestamp').aggregate('sum')\n",
    "len(host_data_3s)"
   ],
   "metadata": {
    "collapsed": false
   },
   "id": "56f9e507c9fc7dde"
  },
  {
   "cell_type": "code",
   "outputs": [
    {
     "data": {
      "text/plain": "20160"
     },
     "execution_count": 15,
     "metadata": {},
     "output_type": "execute_result"
    }
   ],
   "source": [
    "host_data_30s = host_data_30s.select_dtypes(include=[np.number]).groupby('timestamp').aggregate('sum')\n",
    "len(host_data_30s)"
   ],
   "metadata": {
    "collapsed": false,
    "ExecuteTime": {
     "end_time": "2024-07-14T14:04:21.524940Z",
     "start_time": "2024-07-14T14:04:19.722510Z"
    }
   },
   "id": "1d472e6fb5a16f75",
   "execution_count": 15
  },
  {
   "cell_type": "code",
   "outputs": [
    {
     "data": {
      "text/plain": "10080"
     },
     "execution_count": 16,
     "metadata": {},
     "output_type": "execute_result"
    }
   ],
   "source": [
    "host_data_60s = host_data_60s.select_dtypes(include=[np.number]).groupby('timestamp').aggregate('sum')\n",
    "len(host_data_60s)"
   ],
   "metadata": {
    "collapsed": false,
    "ExecuteTime": {
     "end_time": "2024-07-14T14:04:22.152460Z",
     "start_time": "2024-07-14T14:04:21.525978Z"
    }
   },
   "id": "e81339ff6563781d",
   "execution_count": 16
  },
  {
   "cell_type": "code",
   "outputs": [
    {
     "data": {
      "text/plain": "2016"
     },
     "execution_count": 17,
     "metadata": {},
     "output_type": "execute_result"
    }
   ],
   "source": [
    "host_data_300s = host_data_300s.select_dtypes(include=[np.number]).groupby('timestamp').aggregate('sum')\n",
    "len(host_data_300s)"
   ],
   "metadata": {
    "collapsed": false,
    "ExecuteTime": {
     "end_time": "2024-07-14T14:04:22.282690Z",
     "start_time": "2024-07-14T14:04:22.157608Z"
    }
   },
   "id": "a23d4de6bc8638ba",
   "execution_count": 17
  },
  {
   "cell_type": "code",
   "outputs": [],
   "source": [],
   "metadata": {
    "collapsed": false
   },
   "id": "2960668f36cb34a"
  }
 ],
 "metadata": {
  "kernelspec": {
   "display_name": "Python 3",
   "language": "python",
   "name": "python3"
  },
  "language_info": {
   "codemirror_mode": {
    "name": "ipython",
    "version": 2
   },
   "file_extension": ".py",
   "mimetype": "text/x-python",
   "name": "python",
   "nbconvert_exporter": "python",
   "pygments_lexer": "ipython2",
   "version": "2.7.6"
  }
 },
 "nbformat": 4,
 "nbformat_minor": 5
}
