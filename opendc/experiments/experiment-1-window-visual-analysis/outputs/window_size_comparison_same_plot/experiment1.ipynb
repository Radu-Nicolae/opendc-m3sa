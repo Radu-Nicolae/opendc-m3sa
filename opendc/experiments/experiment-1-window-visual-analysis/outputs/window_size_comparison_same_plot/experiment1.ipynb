{
 "cells": [
  {
   "cell_type": "markdown",
   "source": [
    "# Experiment 1 - Window Size Analysis and Comparison"
   ],
   "metadata": {
    "collapsed": false
   },
   "id": "37b98e86528971d3"
  },
  {
   "cell_type": "markdown",
   "source": [
    "## 1. Imports & data loading"
   ],
   "metadata": {
    "collapsed": false
   },
   "id": "2e3e2bf0fe0b12f7"
  },
  {
   "cell_type": "code",
   "outputs": [],
   "source": [
    "import numpy as np\n",
    "import pandas as pd\n",
    "\n",
    "host_data = pd.read_parquet('raw-output/0/seed=0/host.parquet')"
   ],
   "metadata": {
    "collapsed": false,
    "ExecuteTime": {
     "end_time": "2024-07-06T16:30:56.937657Z",
     "start_time": "2024-07-06T16:30:56.268156Z"
    }
   },
   "id": "b4779b3f7b430854",
   "execution_count": 1
  },
  {
   "cell_type": "markdown",
   "source": [
    "# 2. Number of samples in the dataset"
   ],
   "metadata": {
    "collapsed": false
   },
   "id": "a8ebc9dccea63857"
  },
  {
   "cell_type": "markdown",
   "source": [
    "We firstly need to group the dataset by the timestamp, and aggregate the data by summing the values. We do this step, because all the hosts are sampled at the same time, and all the values are stored in the same dataset. "
   ],
   "metadata": {
    "collapsed": false
   },
   "id": "2d26e2d15f751b4b"
  },
  {
   "cell_type": "code",
   "outputs": [
    {
     "name": "stdout",
     "output_type": "stream",
     "text": [
      "average power consumption:  139279.89431424215\n"
     ]
    }
   ],
   "source": [
    "host_data = host_data.select_dtypes(include=[np.number]).groupby('timestamp').aggregate('sum')\n",
    "len(host_data)\n",
    "\n",
    "print(\"average power consumption: \", host_data['power_draw'].mean())"
   ],
   "metadata": {
    "collapsed": false,
    "ExecuteTime": {
     "end_time": "2024-07-06T16:30:57.333840Z",
     "start_time": "2024-07-06T16:30:56.939060Z"
    }
   },
   "id": "27df4246faaed027",
   "execution_count": 2
  },
  {
   "cell_type": "markdown",
   "source": [
    "Out of the 6,048 samples, we take only the first 5,000 samples, and we plot them using window sizes of 1, 10, 100, and 1,000."
   ],
   "metadata": {
    "collapsed": false
   },
   "id": "badd831e6ffabea7"
  },
  {
   "cell_type": "markdown",
   "source": [
    "# 3. Experiment configuration"
   ],
   "metadata": {
    "collapsed": false
   },
   "id": "d867ac9ee4c608ec"
  },
  {
   "cell_type": "markdown",
   "source": [
    "The experiment configuration is irrelevant for this experiment, because we are only interested in the visual comprehensiveness of the data, and not in the accuracy of the model. However, for the sake of completeness, we present the configuration below."
   ],
   "metadata": {
    "collapsed": false
   },
   "id": "7ebcb31ffedaf204"
  },
  {
   "cell_type": "markdown",
   "source": [
    "Carbon Trace: ENTSO-E\n",
    "Workload: SURF-SARA\n",
    "Scheduler: Mem\n",
    "16 clusters, 32 hosts per cluster\n",
    "\n",
    "CPU: 2.6 GHz Intel Xeon Sapphire Rapids, 32 cores, 2.6 GHz\n",
    "Memory: 1TB\n",
    "Power Model: \n",
    "- Power consumption when idle: 200\n",
    "- Typical power consumption under load: 350\n",
    "- Maximum power consumption: 500\n",
    "- modelType: sqrt\n"
   ],
   "metadata": {
    "collapsed": false
   },
   "id": "b85a6c49f30a0a20"
  },
  {
   "cell_type": "markdown",
   "source": [
    "We plot in individual window-analysis plots the power_draw of the first 5,000 sampels of the dataset, using window sizes of 1, 10, 100, and 1,000.\n",
    "\n",
    "We plot the unified multi-model plot the first 2500 data points, using same window sizes."
   ],
   "metadata": {
    "collapsed": false
   },
   "id": "2e429f2b88292231"
  },
  {
   "cell_type": "markdown",
   "source": [],
   "metadata": {
    "collapsed": false
   },
   "id": "6a1adb2cac9e1d03"
  }
 ],
 "metadata": {
  "kernelspec": {
   "display_name": "Python 3",
   "language": "python",
   "name": "python3"
  },
  "language_info": {
   "codemirror_mode": {
    "name": "ipython",
    "version": 2
   },
   "file_extension": ".py",
   "mimetype": "text/x-python",
   "name": "python",
   "nbconvert_exporter": "python",
   "pygments_lexer": "ipython2",
   "version": "2.7.6"
  }
 },
 "nbformat": 4,
 "nbformat_minor": 5
}
