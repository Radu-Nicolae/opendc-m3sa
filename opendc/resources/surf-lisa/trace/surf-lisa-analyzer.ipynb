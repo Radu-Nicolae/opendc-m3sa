{
 "cells": [
  {
   "cell_type": "markdown",
   "source": [
    "energy.parquet -- ground truth for the energy\n",
    "    - sampled every 30s\n",
    "\n",
    "meta.parquet\n",
    "    - all the tasks that need to be executed (7850 tasks)\n",
    "\n",
    "trace.parquet\n",
    "    - the fragments of the tasks (within a task, the CPU utilization varies)\n",
    "    - cpu_usage tells the MHz used, on average, during the last 30s\n",
    "    - was taken from surf lisa public data from SURF\n",
    "\n",
    "\n",
    "\n",
    "background of the data:\n",
    "1. we selected nodes with only CPUs\n",
    "2. we selected only jobs that run on single nodes (aka not distributed jobs) and no shared nodes\n",
    "3. between oct 7th - oct 14th (aka 1 week) from SURF Lisa datacenters"
   ],
   "metadata": {
    "collapsed": false
   },
   "id": "3194292817b9967d"
  },
  {
   "cell_type": "code",
   "outputs": [],
   "source": [],
   "metadata": {
    "collapsed": false
   },
   "id": "d9787afd84116f60"
  }
 ],
 "metadata": {
  "kernelspec": {
   "display_name": "Python 3",
   "language": "python",
   "name": "python3"
  },
  "language_info": {
   "codemirror_mode": {
    "name": "ipython",
    "version": 2
   },
   "file_extension": ".py",
   "mimetype": "text/x-python",
   "name": "python",
   "nbconvert_exporter": "python",
   "pygments_lexer": "ipython2",
   "version": "2.7.6"
  }
 },
 "nbformat": 4,
 "nbformat_minor": 5
}
