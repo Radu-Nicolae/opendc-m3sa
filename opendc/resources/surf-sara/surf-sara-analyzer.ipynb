{
 "cells": [
  {
   "cell_type": "markdown",
   "source": [
    "# Imports"
   ],
   "metadata": {
    "collapsed": false
   },
   "id": "e505303ed010f2c0"
  },
  {
   "cell_type": "code",
   "outputs": [],
   "source": [
    "import numpy as np\n",
    "import pandas as pd"
   ],
   "metadata": {
    "collapsed": false,
    "ExecuteTime": {
     "end_time": "2024-07-21T10:25:17.578513Z",
     "start_time": "2024-07-21T10:25:17.078807Z"
    }
   },
   "id": "ab64c3ce476311b8",
   "execution_count": 1
  },
  {
   "cell_type": "markdown",
   "source": [
    "# Retrieve traces"
   ],
   "metadata": {
    "collapsed": false
   },
   "id": "757c52796d62a40a"
  },
  {
   "cell_type": "code",
   "outputs": [],
   "source": [
    "energy = pd.read_parquet(\"trace/trace.parquet\")\n",
    "meta = pd.read_parquet(\"trace/meta.parquet\")\n",
    "trace = pd.read_parquet(\"trace/meta.parquet\")"
   ],
   "metadata": {
    "collapsed": false,
    "ExecuteTime": {
     "end_time": "2024-07-21T10:25:17.700657Z",
     "start_time": "2024-07-21T10:25:17.579726Z"
    }
   },
   "id": "b79228843c5756a3",
   "execution_count": 2
  },
  {
   "cell_type": "code",
   "outputs": [
    {
     "data": {
      "text/plain": "                                                                    id  \\\ntimestamp                                                                \n2022-10-06 22:00:30  2133229213411921364292133135213311721368502133...   \n2022-10-06 22:01:00  2133229213411921364292133135213311721368502133...   \n2022-10-06 22:01:30  2133229213411921364292133135213311721368502133...   \n2022-10-06 22:02:00  2133229213411921364292133135213311721368502133...   \n2022-10-06 22:02:30  2133229213411921364292133135213311721368502133...   \n...                                                                ...   \n2022-10-13 21:57:30  2169539217559921739092173969217559821779202169...   \n2022-10-13 21:58:00  2169539217559921739092173969217559821779202169...   \n2022-10-13 21:58:30  2169539217559921739092173969217559821779202169...   \n2022-10-13 21:59:00  2169539217559921739092173969217559821779202169...   \n2022-10-13 21:59:30  2169539217559921739092173969217559821779202169...   \n\n                     duration  cpu_count  cpu_usage  \ntimestamp                                            \n2022-10-06 22:00:30   3630000       1936  2162727.0  \n2022-10-06 22:01:00   3480000       1856  1994559.0  \n2022-10-06 22:01:30   3480000       1856  2000397.0  \n2022-10-06 22:02:00   3480000       1856  2007117.0  \n2022-10-06 22:02:30   3480000       1856  2023896.0  \n...                       ...        ...        ...  \n2022-10-13 21:57:30   2940000       1568  1782270.0  \n2022-10-13 21:58:00   2940000       1568  1786512.0  \n2022-10-13 21:58:30   2940000       1568  1790901.0  \n2022-10-13 21:59:00   2940000       1568  1795899.0  \n2022-10-13 21:59:30   2970000       1584  1801254.0  \n\n[20159 rows x 4 columns]",
      "text/html": "<div>\n<style scoped>\n    .dataframe tbody tr th:only-of-type {\n        vertical-align: middle;\n    }\n\n    .dataframe tbody tr th {\n        vertical-align: top;\n    }\n\n    .dataframe thead th {\n        text-align: right;\n    }\n</style>\n<table border=\"1\" class=\"dataframe\">\n  <thead>\n    <tr style=\"text-align: right;\">\n      <th></th>\n      <th>id</th>\n      <th>duration</th>\n      <th>cpu_count</th>\n      <th>cpu_usage</th>\n    </tr>\n    <tr>\n      <th>timestamp</th>\n      <th></th>\n      <th></th>\n      <th></th>\n      <th></th>\n    </tr>\n  </thead>\n  <tbody>\n    <tr>\n      <th>2022-10-06 22:00:30</th>\n      <td>2133229213411921364292133135213311721368502133...</td>\n      <td>3630000</td>\n      <td>1936</td>\n      <td>2162727.0</td>\n    </tr>\n    <tr>\n      <th>2022-10-06 22:01:00</th>\n      <td>2133229213411921364292133135213311721368502133...</td>\n      <td>3480000</td>\n      <td>1856</td>\n      <td>1994559.0</td>\n    </tr>\n    <tr>\n      <th>2022-10-06 22:01:30</th>\n      <td>2133229213411921364292133135213311721368502133...</td>\n      <td>3480000</td>\n      <td>1856</td>\n      <td>2000397.0</td>\n    </tr>\n    <tr>\n      <th>2022-10-06 22:02:00</th>\n      <td>2133229213411921364292133135213311721368502133...</td>\n      <td>3480000</td>\n      <td>1856</td>\n      <td>2007117.0</td>\n    </tr>\n    <tr>\n      <th>2022-10-06 22:02:30</th>\n      <td>2133229213411921364292133135213311721368502133...</td>\n      <td>3480000</td>\n      <td>1856</td>\n      <td>2023896.0</td>\n    </tr>\n    <tr>\n      <th>...</th>\n      <td>...</td>\n      <td>...</td>\n      <td>...</td>\n      <td>...</td>\n    </tr>\n    <tr>\n      <th>2022-10-13 21:57:30</th>\n      <td>2169539217559921739092173969217559821779202169...</td>\n      <td>2940000</td>\n      <td>1568</td>\n      <td>1782270.0</td>\n    </tr>\n    <tr>\n      <th>2022-10-13 21:58:00</th>\n      <td>2169539217559921739092173969217559821779202169...</td>\n      <td>2940000</td>\n      <td>1568</td>\n      <td>1786512.0</td>\n    </tr>\n    <tr>\n      <th>2022-10-13 21:58:30</th>\n      <td>2169539217559921739092173969217559821779202169...</td>\n      <td>2940000</td>\n      <td>1568</td>\n      <td>1790901.0</td>\n    </tr>\n    <tr>\n      <th>2022-10-13 21:59:00</th>\n      <td>2169539217559921739092173969217559821779202169...</td>\n      <td>2940000</td>\n      <td>1568</td>\n      <td>1795899.0</td>\n    </tr>\n    <tr>\n      <th>2022-10-13 21:59:30</th>\n      <td>2169539217559921739092173969217559821779202169...</td>\n      <td>2970000</td>\n      <td>1584</td>\n      <td>1801254.0</td>\n    </tr>\n  </tbody>\n</table>\n<p>20159 rows × 4 columns</p>\n</div>"
     },
     "execution_count": 3,
     "metadata": {},
     "output_type": "execute_result"
    }
   ],
   "source": [
    "energy_parsed = energy.groupby(\"timestamp\").sum()\n",
    "energy_parsed"
   ],
   "metadata": {
    "collapsed": false,
    "ExecuteTime": {
     "end_time": "2024-07-21T10:25:18.008965Z",
     "start_time": "2024-07-21T10:25:17.701613Z"
    }
   },
   "id": "370fe383b113494e",
   "execution_count": 3
  },
  {
   "cell_type": "markdown",
   "source": [
    "# 1. trace.parquet"
   ],
   "metadata": {
    "collapsed": false
   },
   "id": "e0504b3910e383b9"
  },
  {
   "cell_type": "code",
   "outputs": [
    {
     "name": "stdout",
     "output_type": "stream",
     "text": [
      "Shortest job has 0 days 00:00:00\n",
      "Longest job has 5 days 00:00:17\n"
     ]
    }
   ],
   "source": [
    "# trace1 = trace.groupby(\"timestamp\").sum()\n",
    "# trace\n",
    "delta_time = trace[\"stop_time\"] - trace[\"start_time\"]\n",
    "print(\"Shortest job has \" + str(min(delta_time)))\n",
    "print(\"Longest job has \" + str(max(delta_time)))"
   ],
   "metadata": {
    "collapsed": false,
    "ExecuteTime": {
     "end_time": "2024-07-21T10:25:18.018793Z",
     "start_time": "2024-07-21T10:25:18.009982Z"
    }
   },
   "id": "3adc61066970c015",
   "execution_count": 4
  },
  {
   "cell_type": "markdown",
   "source": [
    "Properties:\n",
    "- sampling rate is 30 seconds\n",
    "- shortest job is less than 30 seconds\n",
    "- longest job is 5 days"
   ],
   "metadata": {
    "collapsed": false
   },
   "id": "48c9a7c38328cf4c"
  },
  {
   "cell_type": "markdown",
   "source": [
    "# 2. meta.parquet"
   ],
   "metadata": {
    "collapsed": false
   },
   "id": "828173eb5e436f76"
  },
  {
   "cell_type": "code",
   "outputs": [
    {
     "data": {
      "text/plain": "           id          start_time           stop_time  cpu_count  \\\n0     2133099 2022-10-06 22:00:00 2022-10-07 05:45:35         16   \n1     2133100 2022-10-06 22:00:00 2022-10-07 05:45:35         16   \n2     2133101 2022-10-06 22:00:00 2022-10-07 05:45:35         16   \n3     2133102 2022-10-06 22:00:00 2022-10-07 05:45:35         16   \n4     2133111 2022-10-06 22:00:00 2022-10-07 05:45:35         16   \n...       ...                 ...                 ...        ...   \n7845  2135095 2022-10-06 22:00:00 2022-10-08 01:11:04         16   \n7846  2135096 2022-10-06 22:00:00 2022-10-08 01:11:04         16   \n7847  2135097 2022-10-06 22:00:00 2022-10-08 01:11:04         16   \n7848  2135098 2022-10-06 22:00:00 2022-10-08 01:11:04         16   \n7849  2138225 2022-10-06 22:00:00 2022-10-10 02:16:43         16   \n\n      cpu_capacity  mem_capacity  \n0          33600.0        100000  \n1          33600.0        100000  \n2          33600.0        100000  \n3          33600.0        100000  \n4          33600.0        100000  \n...            ...           ...  \n7845       33600.0        100000  \n7846       33600.0        100000  \n7847       33600.0        100000  \n7848       33600.0        100000  \n7849       33600.0        100000  \n\n[7850 rows x 6 columns]",
      "text/html": "<div>\n<style scoped>\n    .dataframe tbody tr th:only-of-type {\n        vertical-align: middle;\n    }\n\n    .dataframe tbody tr th {\n        vertical-align: top;\n    }\n\n    .dataframe thead th {\n        text-align: right;\n    }\n</style>\n<table border=\"1\" class=\"dataframe\">\n  <thead>\n    <tr style=\"text-align: right;\">\n      <th></th>\n      <th>id</th>\n      <th>start_time</th>\n      <th>stop_time</th>\n      <th>cpu_count</th>\n      <th>cpu_capacity</th>\n      <th>mem_capacity</th>\n    </tr>\n  </thead>\n  <tbody>\n    <tr>\n      <th>0</th>\n      <td>2133099</td>\n      <td>2022-10-06 22:00:00</td>\n      <td>2022-10-07 05:45:35</td>\n      <td>16</td>\n      <td>33600.0</td>\n      <td>100000</td>\n    </tr>\n    <tr>\n      <th>1</th>\n      <td>2133100</td>\n      <td>2022-10-06 22:00:00</td>\n      <td>2022-10-07 05:45:35</td>\n      <td>16</td>\n      <td>33600.0</td>\n      <td>100000</td>\n    </tr>\n    <tr>\n      <th>2</th>\n      <td>2133101</td>\n      <td>2022-10-06 22:00:00</td>\n      <td>2022-10-07 05:45:35</td>\n      <td>16</td>\n      <td>33600.0</td>\n      <td>100000</td>\n    </tr>\n    <tr>\n      <th>3</th>\n      <td>2133102</td>\n      <td>2022-10-06 22:00:00</td>\n      <td>2022-10-07 05:45:35</td>\n      <td>16</td>\n      <td>33600.0</td>\n      <td>100000</td>\n    </tr>\n    <tr>\n      <th>4</th>\n      <td>2133111</td>\n      <td>2022-10-06 22:00:00</td>\n      <td>2022-10-07 05:45:35</td>\n      <td>16</td>\n      <td>33600.0</td>\n      <td>100000</td>\n    </tr>\n    <tr>\n      <th>...</th>\n      <td>...</td>\n      <td>...</td>\n      <td>...</td>\n      <td>...</td>\n      <td>...</td>\n      <td>...</td>\n    </tr>\n    <tr>\n      <th>7845</th>\n      <td>2135095</td>\n      <td>2022-10-06 22:00:00</td>\n      <td>2022-10-08 01:11:04</td>\n      <td>16</td>\n      <td>33600.0</td>\n      <td>100000</td>\n    </tr>\n    <tr>\n      <th>7846</th>\n      <td>2135096</td>\n      <td>2022-10-06 22:00:00</td>\n      <td>2022-10-08 01:11:04</td>\n      <td>16</td>\n      <td>33600.0</td>\n      <td>100000</td>\n    </tr>\n    <tr>\n      <th>7847</th>\n      <td>2135097</td>\n      <td>2022-10-06 22:00:00</td>\n      <td>2022-10-08 01:11:04</td>\n      <td>16</td>\n      <td>33600.0</td>\n      <td>100000</td>\n    </tr>\n    <tr>\n      <th>7848</th>\n      <td>2135098</td>\n      <td>2022-10-06 22:00:00</td>\n      <td>2022-10-08 01:11:04</td>\n      <td>16</td>\n      <td>33600.0</td>\n      <td>100000</td>\n    </tr>\n    <tr>\n      <th>7849</th>\n      <td>2138225</td>\n      <td>2022-10-06 22:00:00</td>\n      <td>2022-10-10 02:16:43</td>\n      <td>16</td>\n      <td>33600.0</td>\n      <td>100000</td>\n    </tr>\n  </tbody>\n</table>\n<p>7850 rows × 6 columns</p>\n</div>"
     },
     "execution_count": 5,
     "metadata": {},
     "output_type": "execute_result"
    }
   ],
   "source": [
    "meta"
   ],
   "metadata": {
    "collapsed": false,
    "ExecuteTime": {
     "end_time": "2024-07-21T10:25:18.025735Z",
     "start_time": "2024-07-21T10:25:18.020549Z"
    }
   },
   "id": "4260c67c156a97fd",
   "execution_count": 5
  },
  {
   "cell_type": "markdown",
   "source": [
    "Meta.parquet analyses the infrastructure usage, for each run job."
   ],
   "metadata": {
    "collapsed": false
   },
   "id": "fa14255833e9a03"
  },
  {
   "cell_type": "markdown",
   "source": [
    "# 3. energy.parquet"
   ],
   "metadata": {
    "collapsed": false
   },
   "id": "2ceaf08d77001250"
  },
  {
   "cell_type": "code",
   "outputs": [
    {
     "data": {
      "text/plain": "              id           timestamp  duration  cpu_count  cpu_usage\n0        2147116 2022-10-11 14:05:30     30000         16       42.0\n1        2147116 2022-10-11 14:06:00     30000         16       21.0\n2        2147116 2022-10-11 14:06:30     30000         16       21.0\n3        2147116 2022-10-11 14:07:00     30000         16        0.0\n4        2147116 2022-10-11 14:07:30     30000         16        0.0\n...          ...                 ...       ...        ...        ...\n2323470  2173980 2022-10-13 21:57:30     30000         16     2205.0\n2323471  2173980 2022-10-13 21:58:00     30000         16     2247.0\n2323472  2173980 2022-10-13 21:58:30     30000         16     2457.0\n2323473  2173980 2022-10-13 21:59:00     30000         16     2835.0\n2323474  2173980 2022-10-13 21:59:30     30000         16     2919.0\n\n[2323475 rows x 5 columns]",
      "text/html": "<div>\n<style scoped>\n    .dataframe tbody tr th:only-of-type {\n        vertical-align: middle;\n    }\n\n    .dataframe tbody tr th {\n        vertical-align: top;\n    }\n\n    .dataframe thead th {\n        text-align: right;\n    }\n</style>\n<table border=\"1\" class=\"dataframe\">\n  <thead>\n    <tr style=\"text-align: right;\">\n      <th></th>\n      <th>id</th>\n      <th>timestamp</th>\n      <th>duration</th>\n      <th>cpu_count</th>\n      <th>cpu_usage</th>\n    </tr>\n  </thead>\n  <tbody>\n    <tr>\n      <th>0</th>\n      <td>2147116</td>\n      <td>2022-10-11 14:05:30</td>\n      <td>30000</td>\n      <td>16</td>\n      <td>42.0</td>\n    </tr>\n    <tr>\n      <th>1</th>\n      <td>2147116</td>\n      <td>2022-10-11 14:06:00</td>\n      <td>30000</td>\n      <td>16</td>\n      <td>21.0</td>\n    </tr>\n    <tr>\n      <th>2</th>\n      <td>2147116</td>\n      <td>2022-10-11 14:06:30</td>\n      <td>30000</td>\n      <td>16</td>\n      <td>21.0</td>\n    </tr>\n    <tr>\n      <th>3</th>\n      <td>2147116</td>\n      <td>2022-10-11 14:07:00</td>\n      <td>30000</td>\n      <td>16</td>\n      <td>0.0</td>\n    </tr>\n    <tr>\n      <th>4</th>\n      <td>2147116</td>\n      <td>2022-10-11 14:07:30</td>\n      <td>30000</td>\n      <td>16</td>\n      <td>0.0</td>\n    </tr>\n    <tr>\n      <th>...</th>\n      <td>...</td>\n      <td>...</td>\n      <td>...</td>\n      <td>...</td>\n      <td>...</td>\n    </tr>\n    <tr>\n      <th>2323470</th>\n      <td>2173980</td>\n      <td>2022-10-13 21:57:30</td>\n      <td>30000</td>\n      <td>16</td>\n      <td>2205.0</td>\n    </tr>\n    <tr>\n      <th>2323471</th>\n      <td>2173980</td>\n      <td>2022-10-13 21:58:00</td>\n      <td>30000</td>\n      <td>16</td>\n      <td>2247.0</td>\n    </tr>\n    <tr>\n      <th>2323472</th>\n      <td>2173980</td>\n      <td>2022-10-13 21:58:30</td>\n      <td>30000</td>\n      <td>16</td>\n      <td>2457.0</td>\n    </tr>\n    <tr>\n      <th>2323473</th>\n      <td>2173980</td>\n      <td>2022-10-13 21:59:00</td>\n      <td>30000</td>\n      <td>16</td>\n      <td>2835.0</td>\n    </tr>\n    <tr>\n      <th>2323474</th>\n      <td>2173980</td>\n      <td>2022-10-13 21:59:30</td>\n      <td>30000</td>\n      <td>16</td>\n      <td>2919.0</td>\n    </tr>\n  </tbody>\n</table>\n<p>2323475 rows × 5 columns</p>\n</div>"
     },
     "execution_count": 6,
     "metadata": {},
     "output_type": "execute_result"
    }
   ],
   "source": [
    "energy"
   ],
   "metadata": {
    "collapsed": false,
    "ExecuteTime": {
     "end_time": "2024-07-21T10:25:18.031104Z",
     "start_time": "2024-07-21T10:25:18.026362Z"
    }
   },
   "id": "57a9b1128f575f53",
   "execution_count": 6
  },
  {
   "cell_type": "markdown",
   "source": [
    "Specs:\n",
    "- to add, but need to discuss with people"
   ],
   "metadata": {
    "collapsed": false
   },
   "id": "ef7198c143f44d16"
  },
  {
   "cell_type": "markdown",
   "source": [
    "# 3. energy.parquet"
   ],
   "metadata": {
    "collapsed": false
   },
   "id": "c23733460e25fd32"
  },
  {
   "cell_type": "code",
   "outputs": [
    {
     "data": {
      "text/plain": "                                                                    id  \\\ntimestamp                                                                \n2022-10-06 22:00:30  2133229213411921364292133135213311721368502133...   \n2022-10-06 22:01:00  2133229213411921364292133135213311721368502133...   \n2022-10-06 22:01:30  2133229213411921364292133135213311721368502133...   \n2022-10-06 22:02:00  2133229213411921364292133135213311721368502133...   \n2022-10-06 22:02:30  2133229213411921364292133135213311721368502133...   \n...                                                                ...   \n2022-10-13 21:57:30  2169539217559921739092173969217559821779202169...   \n2022-10-13 21:58:00  2169539217559921739092173969217559821779202169...   \n2022-10-13 21:58:30  2169539217559921739092173969217559821779202169...   \n2022-10-13 21:59:00  2169539217559921739092173969217559821779202169...   \n2022-10-13 21:59:30  2169539217559921739092173969217559821779202169...   \n\n                     duration  cpu_count  cpu_usage  \ntimestamp                                            \n2022-10-06 22:00:30   3630000       1936  2162727.0  \n2022-10-06 22:01:00   3480000       1856  1994559.0  \n2022-10-06 22:01:30   3480000       1856  2000397.0  \n2022-10-06 22:02:00   3480000       1856  2007117.0  \n2022-10-06 22:02:30   3480000       1856  2023896.0  \n...                       ...        ...        ...  \n2022-10-13 21:57:30   2940000       1568  1782270.0  \n2022-10-13 21:58:00   2940000       1568  1786512.0  \n2022-10-13 21:58:30   2940000       1568  1790901.0  \n2022-10-13 21:59:00   2940000       1568  1795899.0  \n2022-10-13 21:59:30   2970000       1584  1801254.0  \n\n[20159 rows x 4 columns]",
      "text/html": "<div>\n<style scoped>\n    .dataframe tbody tr th:only-of-type {\n        vertical-align: middle;\n    }\n\n    .dataframe tbody tr th {\n        vertical-align: top;\n    }\n\n    .dataframe thead th {\n        text-align: right;\n    }\n</style>\n<table border=\"1\" class=\"dataframe\">\n  <thead>\n    <tr style=\"text-align: right;\">\n      <th></th>\n      <th>id</th>\n      <th>duration</th>\n      <th>cpu_count</th>\n      <th>cpu_usage</th>\n    </tr>\n    <tr>\n      <th>timestamp</th>\n      <th></th>\n      <th></th>\n      <th></th>\n      <th></th>\n    </tr>\n  </thead>\n  <tbody>\n    <tr>\n      <th>2022-10-06 22:00:30</th>\n      <td>2133229213411921364292133135213311721368502133...</td>\n      <td>3630000</td>\n      <td>1936</td>\n      <td>2162727.0</td>\n    </tr>\n    <tr>\n      <th>2022-10-06 22:01:00</th>\n      <td>2133229213411921364292133135213311721368502133...</td>\n      <td>3480000</td>\n      <td>1856</td>\n      <td>1994559.0</td>\n    </tr>\n    <tr>\n      <th>2022-10-06 22:01:30</th>\n      <td>2133229213411921364292133135213311721368502133...</td>\n      <td>3480000</td>\n      <td>1856</td>\n      <td>2000397.0</td>\n    </tr>\n    <tr>\n      <th>2022-10-06 22:02:00</th>\n      <td>2133229213411921364292133135213311721368502133...</td>\n      <td>3480000</td>\n      <td>1856</td>\n      <td>2007117.0</td>\n    </tr>\n    <tr>\n      <th>2022-10-06 22:02:30</th>\n      <td>2133229213411921364292133135213311721368502133...</td>\n      <td>3480000</td>\n      <td>1856</td>\n      <td>2023896.0</td>\n    </tr>\n    <tr>\n      <th>...</th>\n      <td>...</td>\n      <td>...</td>\n      <td>...</td>\n      <td>...</td>\n    </tr>\n    <tr>\n      <th>2022-10-13 21:57:30</th>\n      <td>2169539217559921739092173969217559821779202169...</td>\n      <td>2940000</td>\n      <td>1568</td>\n      <td>1782270.0</td>\n    </tr>\n    <tr>\n      <th>2022-10-13 21:58:00</th>\n      <td>2169539217559921739092173969217559821779202169...</td>\n      <td>2940000</td>\n      <td>1568</td>\n      <td>1786512.0</td>\n    </tr>\n    <tr>\n      <th>2022-10-13 21:58:30</th>\n      <td>2169539217559921739092173969217559821779202169...</td>\n      <td>2940000</td>\n      <td>1568</td>\n      <td>1790901.0</td>\n    </tr>\n    <tr>\n      <th>2022-10-13 21:59:00</th>\n      <td>2169539217559921739092173969217559821779202169...</td>\n      <td>2940000</td>\n      <td>1568</td>\n      <td>1795899.0</td>\n    </tr>\n    <tr>\n      <th>2022-10-13 21:59:30</th>\n      <td>2169539217559921739092173969217559821779202169...</td>\n      <td>2970000</td>\n      <td>1584</td>\n      <td>1801254.0</td>\n    </tr>\n  </tbody>\n</table>\n<p>20159 rows × 4 columns</p>\n</div>"
     },
     "execution_count": 7,
     "metadata": {},
     "output_type": "execute_result"
    }
   ],
   "source": [
    "energy_parsed"
   ],
   "metadata": {
    "collapsed": false,
    "ExecuteTime": {
     "end_time": "2024-07-21T10:25:18.035771Z",
     "start_time": "2024-07-21T10:25:18.031792Z"
    }
   },
   "id": "31fea13ae4fda79c",
   "execution_count": 7
  },
  {
   "cell_type": "markdown",
   "source": [
    "We parse the raw energy trace. We identify numerous jobs run in parallel. For this reason, we group by timestamp, and parse the energy consumption per host, to determine the total energy consumption."
   ],
   "metadata": {
    "collapsed": false
   },
   "id": "7f7c53bda276c84b"
  }
 ],
 "metadata": {
  "kernelspec": {
   "display_name": "Python 3",
   "language": "python",
   "name": "python3"
  },
  "language_info": {
   "codemirror_mode": {
    "name": "ipython",
    "version": 2
   },
   "file_extension": ".py",
   "mimetype": "text/x-python",
   "name": "python",
   "nbconvert_exporter": "python",
   "pygments_lexer": "ipython2",
   "version": "2.7.6"
  }
 },
 "nbformat": 4,
 "nbformat_minor": 5
}
