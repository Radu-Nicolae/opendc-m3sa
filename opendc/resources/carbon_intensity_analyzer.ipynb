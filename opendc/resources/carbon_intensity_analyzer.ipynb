{
 "cells": [
  {
   "cell_type": "markdown",
   "source": [
    "# Imports"
   ],
   "metadata": {
    "collapsed": false
   },
   "id": "e505303ed010f2c0"
  },
  {
   "cell_type": "code",
   "outputs": [],
   "source": [
    "import numpy as np\n",
    "import pandas as pd"
   ],
   "metadata": {
    "collapsed": false,
    "ExecuteTime": {
     "end_time": "2024-07-21T09:43:32.907448Z",
     "start_time": "2024-07-21T09:43:32.905196Z"
    }
   },
   "id": "ab64c3ce476311b8",
   "execution_count": 4
  },
  {
   "cell_type": "markdown",
   "source": [
    "# Retrieve traces"
   ],
   "metadata": {
    "collapsed": false
   },
   "id": "757c52796d62a40a"
  },
  {
   "cell_type": "code",
   "outputs": [],
   "source": [
    "carbon = pd.read_parquet(\"surf-sara/trace/trace.parquet\")"
   ],
   "metadata": {
    "collapsed": false,
    "ExecuteTime": {
     "end_time": "2024-07-21T09:48:29.069734Z",
     "start_time": "2024-07-21T09:48:28.981011Z"
    }
   },
   "id": "b79228843c5756a3",
   "execution_count": 15
  },
  {
   "cell_type": "code",
   "outputs": [
    {
     "data": {
      "text/plain": "              id           timestamp  duration  cpu_count  cpu_usage\n0        2147116 2022-10-11 14:05:30     30000         16       42.0\n1        2147116 2022-10-11 14:06:00     30000         16       21.0\n2        2147116 2022-10-11 14:06:30     30000         16       21.0\n3        2147116 2022-10-11 14:07:00     30000         16        0.0\n4        2147116 2022-10-11 14:07:30     30000         16        0.0\n...          ...                 ...       ...        ...        ...\n2323470  2173980 2022-10-13 21:57:30     30000         16     2205.0\n2323471  2173980 2022-10-13 21:58:00     30000         16     2247.0\n2323472  2173980 2022-10-13 21:58:30     30000         16     2457.0\n2323473  2173980 2022-10-13 21:59:00     30000         16     2835.0\n2323474  2173980 2022-10-13 21:59:30     30000         16     2919.0\n\n[2323475 rows x 5 columns]",
      "text/html": "<div>\n<style scoped>\n    .dataframe tbody tr th:only-of-type {\n        vertical-align: middle;\n    }\n\n    .dataframe tbody tr th {\n        vertical-align: top;\n    }\n\n    .dataframe thead th {\n        text-align: right;\n    }\n</style>\n<table border=\"1\" class=\"dataframe\">\n  <thead>\n    <tr style=\"text-align: right;\">\n      <th></th>\n      <th>id</th>\n      <th>timestamp</th>\n      <th>duration</th>\n      <th>cpu_count</th>\n      <th>cpu_usage</th>\n    </tr>\n  </thead>\n  <tbody>\n    <tr>\n      <th>0</th>\n      <td>2147116</td>\n      <td>2022-10-11 14:05:30</td>\n      <td>30000</td>\n      <td>16</td>\n      <td>42.0</td>\n    </tr>\n    <tr>\n      <th>1</th>\n      <td>2147116</td>\n      <td>2022-10-11 14:06:00</td>\n      <td>30000</td>\n      <td>16</td>\n      <td>21.0</td>\n    </tr>\n    <tr>\n      <th>2</th>\n      <td>2147116</td>\n      <td>2022-10-11 14:06:30</td>\n      <td>30000</td>\n      <td>16</td>\n      <td>21.0</td>\n    </tr>\n    <tr>\n      <th>3</th>\n      <td>2147116</td>\n      <td>2022-10-11 14:07:00</td>\n      <td>30000</td>\n      <td>16</td>\n      <td>0.0</td>\n    </tr>\n    <tr>\n      <th>4</th>\n      <td>2147116</td>\n      <td>2022-10-11 14:07:30</td>\n      <td>30000</td>\n      <td>16</td>\n      <td>0.0</td>\n    </tr>\n    <tr>\n      <th>...</th>\n      <td>...</td>\n      <td>...</td>\n      <td>...</td>\n      <td>...</td>\n      <td>...</td>\n    </tr>\n    <tr>\n      <th>2323470</th>\n      <td>2173980</td>\n      <td>2022-10-13 21:57:30</td>\n      <td>30000</td>\n      <td>16</td>\n      <td>2205.0</td>\n    </tr>\n    <tr>\n      <th>2323471</th>\n      <td>2173980</td>\n      <td>2022-10-13 21:58:00</td>\n      <td>30000</td>\n      <td>16</td>\n      <td>2247.0</td>\n    </tr>\n    <tr>\n      <th>2323472</th>\n      <td>2173980</td>\n      <td>2022-10-13 21:58:30</td>\n      <td>30000</td>\n      <td>16</td>\n      <td>2457.0</td>\n    </tr>\n    <tr>\n      <th>2323473</th>\n      <td>2173980</td>\n      <td>2022-10-13 21:59:00</td>\n      <td>30000</td>\n      <td>16</td>\n      <td>2835.0</td>\n    </tr>\n    <tr>\n      <th>2323474</th>\n      <td>2173980</td>\n      <td>2022-10-13 21:59:30</td>\n      <td>30000</td>\n      <td>16</td>\n      <td>2919.0</td>\n    </tr>\n  </tbody>\n</table>\n<p>2323475 rows × 5 columns</p>\n</div>"
     },
     "execution_count": 17,
     "metadata": {},
     "output_type": "execute_result"
    }
   ],
   "source": [
    "carbon"
   ],
   "metadata": {
    "collapsed": false,
    "ExecuteTime": {
     "end_time": "2024-07-21T10:26:43.207188Z",
     "start_time": "2024-07-21T10:26:43.197224Z"
    }
   },
   "id": "370fe383b113494e",
   "execution_count": 17
  },
  {
   "cell_type": "code",
   "outputs": [
    {
     "data": {
      "text/plain": "                                                                    id  \\\ntimestamp                                                                \n2022-10-06 22:00:30  2133229213411921364292133135213311721368502133...   \n2022-10-06 22:01:00  2133229213411921364292133135213311721368502133...   \n2022-10-06 22:01:30  2133229213411921364292133135213311721368502133...   \n2022-10-06 22:02:00  2133229213411921364292133135213311721368502133...   \n2022-10-06 22:02:30  2133229213411921364292133135213311721368502133...   \n...                                                                ...   \n2022-10-13 21:57:30  2169539217559921739092173969217559821779202169...   \n2022-10-13 21:58:00  2169539217559921739092173969217559821779202169...   \n2022-10-13 21:58:30  2169539217559921739092173969217559821779202169...   \n2022-10-13 21:59:00  2169539217559921739092173969217559821779202169...   \n2022-10-13 21:59:30  2169539217559921739092173969217559821779202169...   \n\n                     duration  cpu_count  cpu_usage  \ntimestamp                                            \n2022-10-06 22:00:30   3630000       1936  2162727.0  \n2022-10-06 22:01:00   3480000       1856  1994559.0  \n2022-10-06 22:01:30   3480000       1856  2000397.0  \n2022-10-06 22:02:00   3480000       1856  2007117.0  \n2022-10-06 22:02:30   3480000       1856  2023896.0  \n...                       ...        ...        ...  \n2022-10-13 21:57:30   2940000       1568  1782270.0  \n2022-10-13 21:58:00   2940000       1568  1786512.0  \n2022-10-13 21:58:30   2940000       1568  1790901.0  \n2022-10-13 21:59:00   2940000       1568  1795899.0  \n2022-10-13 21:59:30   2970000       1584  1801254.0  \n\n[20159 rows x 4 columns]",
      "text/html": "<div>\n<style scoped>\n    .dataframe tbody tr th:only-of-type {\n        vertical-align: middle;\n    }\n\n    .dataframe tbody tr th {\n        vertical-align: top;\n    }\n\n    .dataframe thead th {\n        text-align: right;\n    }\n</style>\n<table border=\"1\" class=\"dataframe\">\n  <thead>\n    <tr style=\"text-align: right;\">\n      <th></th>\n      <th>id</th>\n      <th>duration</th>\n      <th>cpu_count</th>\n      <th>cpu_usage</th>\n    </tr>\n    <tr>\n      <th>timestamp</th>\n      <th></th>\n      <th></th>\n      <th></th>\n      <th></th>\n    </tr>\n  </thead>\n  <tbody>\n    <tr>\n      <th>2022-10-06 22:00:30</th>\n      <td>2133229213411921364292133135213311721368502133...</td>\n      <td>3630000</td>\n      <td>1936</td>\n      <td>2162727.0</td>\n    </tr>\n    <tr>\n      <th>2022-10-06 22:01:00</th>\n      <td>2133229213411921364292133135213311721368502133...</td>\n      <td>3480000</td>\n      <td>1856</td>\n      <td>1994559.0</td>\n    </tr>\n    <tr>\n      <th>2022-10-06 22:01:30</th>\n      <td>2133229213411921364292133135213311721368502133...</td>\n      <td>3480000</td>\n      <td>1856</td>\n      <td>2000397.0</td>\n    </tr>\n    <tr>\n      <th>2022-10-06 22:02:00</th>\n      <td>2133229213411921364292133135213311721368502133...</td>\n      <td>3480000</td>\n      <td>1856</td>\n      <td>2007117.0</td>\n    </tr>\n    <tr>\n      <th>2022-10-06 22:02:30</th>\n      <td>2133229213411921364292133135213311721368502133...</td>\n      <td>3480000</td>\n      <td>1856</td>\n      <td>2023896.0</td>\n    </tr>\n    <tr>\n      <th>...</th>\n      <td>...</td>\n      <td>...</td>\n      <td>...</td>\n      <td>...</td>\n    </tr>\n    <tr>\n      <th>2022-10-13 21:57:30</th>\n      <td>2169539217559921739092173969217559821779202169...</td>\n      <td>2940000</td>\n      <td>1568</td>\n      <td>1782270.0</td>\n    </tr>\n    <tr>\n      <th>2022-10-13 21:58:00</th>\n      <td>2169539217559921739092173969217559821779202169...</td>\n      <td>2940000</td>\n      <td>1568</td>\n      <td>1786512.0</td>\n    </tr>\n    <tr>\n      <th>2022-10-13 21:58:30</th>\n      <td>2169539217559921739092173969217559821779202169...</td>\n      <td>2940000</td>\n      <td>1568</td>\n      <td>1790901.0</td>\n    </tr>\n    <tr>\n      <th>2022-10-13 21:59:00</th>\n      <td>2169539217559921739092173969217559821779202169...</td>\n      <td>2940000</td>\n      <td>1568</td>\n      <td>1795899.0</td>\n    </tr>\n    <tr>\n      <th>2022-10-13 21:59:30</th>\n      <td>2169539217559921739092173969217559821779202169...</td>\n      <td>2970000</td>\n      <td>1584</td>\n      <td>1801254.0</td>\n    </tr>\n  </tbody>\n</table>\n<p>20159 rows × 4 columns</p>\n</div>"
     },
     "execution_count": 21,
     "metadata": {},
     "output_type": "execute_result"
    }
   ],
   "source": [
    "carbon_parsed = carbon.groupby(\"timestamp\").sum()\n",
    "carbon_parsed"
   ],
   "metadata": {
    "collapsed": false,
    "ExecuteTime": {
     "end_time": "2024-07-21T10:27:08.861789Z",
     "start_time": "2024-07-21T10:27:08.579237Z"
    }
   },
   "id": "a212cede3d038442",
   "execution_count": 21
  },
  {
   "cell_type": "code",
   "outputs": [],
   "source": [],
   "metadata": {
    "collapsed": false
   },
   "id": "899d6f63c2b5f38"
  }
 ],
 "metadata": {
  "kernelspec": {
   "display_name": "Python 3",
   "language": "python",
   "name": "python3"
  },
  "language_info": {
   "codemirror_mode": {
    "name": "ipython",
    "version": 2
   },
   "file_extension": ".py",
   "mimetype": "text/x-python",
   "name": "python",
   "nbconvert_exporter": "python",
   "pygments_lexer": "ipython2",
   "version": "2.7.6"
  }
 },
 "nbformat": 4,
 "nbformat_minor": 5
}
